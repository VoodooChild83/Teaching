{
 "cells": [
  {
   "cell_type": "code",
   "execution_count": 1,
   "metadata": {},
   "outputs": [
    {
     "name": "stdout",
     "output_type": "stream",
     "text": [
      "Starting parallel pool (parpool) using the 'local' profile ... connected to 4 workers.\n",
      "\n",
      "ans = \n",
      "\n",
      " Pool with properties: \n",
      "\n",
      "            Connected: true\n",
      "           NumWorkers: 4\n",
      "              Cluster: local\n",
      "        AttachedFiles: {}\n",
      "          IdleTimeout: 30 minute(s) (30 minutes remaining)\n",
      "          SpmdEnabled: true\n",
      "\n"
     ]
    }
   ],
   "source": [
    "%clear all variables\n",
    "clear all;\n",
    "\n",
    "%reset the RNG to default\n",
    "rng('default');\n",
    "\n",
    "%start parallel processing\n",
    "parpool"
   ]
  },
  {
   "cell_type": "markdown",
   "metadata": {},
   "source": [
    "# Problem 1: FMINUNC - The Problem of Local Optima\n",
    "\n",
    "Numerically minimize the function $\\sin(x) + 0.01 (x − a)^{2}$ , setting a = 0, using Matlab's fminunc.\n",
    "\n",
    "First, create an anonymous function handle:"
   ]
  },
  {
   "cell_type": "code",
   "execution_count": 6,
   "metadata": {
    "collapsed": true
   },
   "outputs": [],
   "source": [
    "%set the constant, a:\n",
    "a=0;"
   ]
  },
  {
   "cell_type": "code",
   "execution_count": 7,
   "metadata": {},
   "outputs": [],
   "source": [
    "%set the anonymous function to maximize\n",
    "f = @(x) sin(x)+0.01*(x-a).^2;"
   ]
  },
  {
   "cell_type": "markdown",
   "metadata": {},
   "source": [
    "Plot the function over the interval $\\left(-5\\pi, 5\\pi \\right)$."
   ]
  },
  {
   "cell_type": "code",
   "execution_count": 8,
   "metadata": {},
   "outputs": [
    {
     "data": {
      "image/png": "[encoded data removed]",
      "text/plain": [
       "<IPython.core.display.Image object>"
      ]
     },
     "metadata": {},
     "output_type": "display_data"
    }
   ],
   "source": [
    "fplot(f,[-5*pi,5*pi]);"
   ]
  },
  {
   "cell_type": "markdown",
   "metadata": {},
   "source": [
    "The above function has many local minima. The challenge will be finding the global minima (which seems to be between -5 and 0. \n",
    "\n",
    "Let's start to set the maximization routine by setting up the options that we will need (the alogrithm we want to use, the starting value, etc.). \n",
    "\n",
    "First, we will use the algorithm 'quasi-Newton' method. Then, we will provide the gradient (since this is an analytic problem) to use a better alogrithm (I will make use of python's symbolic computer algebra system to find the gradient - the first direvative. "
   ]
  },
  {
   "cell_type": "code",
   "execution_count": 5,
   "metadata": {},
   "outputs": [],
   "source": [
    "%set the options\n",
    "%1. The algorithm will be quasi-newton (this is because the \n",
    "%   default algorithm, 'trust-region', requires the user to\n",
    "%   input the gradient of the function as a second function),\n",
    "%2. We will turn the display off (so we don't have a bunch of\n",
    "%   crap on the screen).\n",
    "%3. We will ask that the hessian use the 'bfsg' algorithm to \n",
    "%   update the search pattern.\n",
    "\n",
    "options = optimoptions(@fminunc,'Algorithm','quasi-newton',...\n",
    "                       'Display','off','HessUpdate','bfgs');"
   ]
  },
  {
   "cell_type": "code",
   "execution_count": 6,
   "metadata": {},
   "outputs": [
    {
     "name": "stdout",
     "output_type": "stream",
     "text": [
      "min_val =\n",
      "\n",
      "    4.6199\n",
      "\n",
      "\n",
      "f_val =\n",
      "\n",
      "   -0.7823\n"
     ]
    }
   ],
   "source": [
    "%set the starting value for guessing (a random integer between\n",
    "%-20 and 20. \n",
    "x0 = 2.5;\n",
    "\n",
    "%write the optimization routine\n",
    "[min_val,f_val] = fminunc(f,x0,options)\n"
   ]
  },
  {
   "cell_type": "markdown",
   "metadata": {},
   "source": [
    "(a) and (b): The above code finds the minimum, however it is dependent on the starting value. Different starting values outside the domain $x\\in [-4.8,1.6]$ produce local minimas. Because in the above our starting value was outside this domain, we obtain a local minima\n",
    "\n",
    "## Finding the gradient and hessian with Symbolic Python\n",
    "\n",
    "Let's find the gradient (in our case, with only one variable, the first direvative) so that we may see if this removes sensitivity. We'll use Python's sympy to do symbolic mathematics (we use cell magic '%%python' to switch us to python for just these cells). We will provide these as additional functions as practice to learn how to provide these to an optimization routine if they are needed. "
   ]
  },
  {
   "cell_type": "code",
   "execution_count": 5,
   "metadata": {},
   "outputs": [],
   "source": [
    "%%python\n",
    "\n",
    "#Import sympy\n",
    "from sympy import *"
   ]
  },
  {
   "cell_type": "code",
   "execution_count": 2,
   "metadata": {},
   "outputs": [
    {
     "name": "stdout",
     "output_type": "stream",
     "text": [
      "-0.02*a + 0.02*x + cos(x)\n"
     ]
    }
   ],
   "source": [
    "%%python\n",
    "\n",
    "#declare symbols\n",
    "x,a = symbols('x a')\n",
    "\n",
    "#differentiate our objective function\n",
    "print diff(sin(x)+0.01*(x-a)**2,x)"
   ]
  },
  {
   "cell_type": "code",
   "execution_count": 3,
   "metadata": {},
   "outputs": [
    {
     "name": "stdout",
     "output_type": "stream",
     "text": [
      "-sin(x) + 0.02\n"
     ]
    }
   ],
   "source": [
    "%%python\n",
    "\n",
    "#differentiate again for hessian\n",
    "print diff(sin(x)+0.01*(x-a)**2,x,2)"
   ]
  },
  {
   "cell_type": "markdown",
   "metadata": {},
   "source": [
    "We will now program the gradient to provide it to fminunc. We will add them to the anonymous function to do this directly. "
   ]
  },
  {
   "cell_type": "code",
   "execution_count": 10,
   "metadata": {},
   "outputs": [],
   "source": [
    "%program the gradient and hessian as anon functions\n",
    "%we use the deal method to have it deal out the \n",
    "%different functions\n",
    "\n",
    "f_grad_hess = @(x) deal(sin(x)+0.01*(x-a).^2,...\n",
    "                        -0.02*a + 0.02*x + cos(x),...\n",
    "                        -sin(x) + 0.02);"
   ]
  },
  {
   "cell_type": "code",
   "execution_count": 11,
   "metadata": {},
   "outputs": [],
   "source": [
    "%create a new options to tell matlab we will supply gradient\n",
    "options_2 = optimoptions('fminunc','Algorithm','trust-region',...\n",
    "                         'GradObj','on','Hessian','on',...\n",
    "                         'Display','off');"
   ]
  },
  {
   "cell_type": "code",
   "execution_count": 12,
   "metadata": {},
   "outputs": [
    {
     "name": "stdout",
     "output_type": "stream",
     "text": [
      "min_val_2 =\n",
      "\n",
      "    4.6199\n",
      "\n",
      "\n",
      "f_val_2 =\n",
      "\n",
      "   -0.7823\n"
     ]
    }
   ],
   "source": [
    "%write the new minimization routine\n",
    "\n",
    "[min_val_2,f_val_2] = fminunc(f_grad_hess,x0,options_2)"
   ]
  },
  {
   "cell_type": "markdown",
   "metadata": {},
   "source": [
    "# Problem 1: Use Multistart or Simulated Annealing for Global Optimization\n",
    "\n",
    "Providing the gradient and the hessian does not help us here. It has no impact. Perhaps we can create a global optimization search in matlab to help find the minimum regardless of the starting value?\n",
    "\n",
    "Because we are using 'fminunc' we will have to use Multistart. We can also parallelize Multistart in case the objective function happens to create slow computation. Multistart will use the otimization toolbox methods to tell matlab to: 1) create a problem using the desired solver and the input parameters of the problem; 2) declare that we are going to use a multistart (and optionally, if we want to run in parallel); 3) run the multistart problem on as many local solvers as we wish (it will automatically generate a vector of starting points at what are known as 'basins of attraction', or \"areas\" in the function that have steep descent/acent and thus where an optima may exist). The solvers are distributed on the cores of your computer. \n",
    "\n",
    "So basically, for part (c) of the problem this (along with the next section) is a strategy to use. For any $a\\in(-\\pi,\\pi)$ we can find global minima with this algorithm of distributed starting values. "
   ]
  },
  {
   "cell_type": "code",
   "execution_count": 13,
   "metadata": {},
   "outputs": [],
   "source": [
    "%number of solvers:\n",
    "n_solvers=50;"
   ]
  },
  {
   "cell_type": "code",
   "execution_count": 14,
   "metadata": {},
   "outputs": [],
   "source": [
    "%Since we have already defined the problems previously, lets recycle\n",
    "%(we could use the original f function that had matlab compute approx.\n",
    "%hessians and numeric gradients, but since we have easy analytical \n",
    "%solutions we can just use the f_grad_hess all the same).\n",
    "\n",
    "%with the original problem in the first cells above, define problem\n",
    "problem = createOptimProblem('fminunc','objective',f_grad_hess,...\n",
    "                             'x0',x0,'options', options_2);\n",
    "                             \n",
    "ms = MultiStart('UseParallel', true);"
   ]
  },
  {
   "cell_type": "code",
   "execution_count": 15,
   "metadata": {},
   "outputs": [
    {
     "name": "stdout",
     "output_type": "stream",
     "text": [
      "MultiStart completed the runs from all start points.\n",
      "\n",
      "All 50 local solver runs converged with a positive local solver exit flag.\n",
      "\n",
      "min_val_3 =\n",
      "\n",
      "   -1.5400\n",
      "\n",
      "\n",
      "f_val_3 =\n",
      "\n",
      "   -0.9758\n"
     ]
    }
   ],
   "source": [
    "%write the MultiStart routine on 50 points\n",
    "\n",
    "[min_val_3,f_val_3] = run(ms,problem,n_solvers)"
   ]
  },
  {
   "cell_type": "markdown",
   "metadata": {},
   "source": [
    "The algorithm converged on the global optima. "
   ]
  },
  {
   "cell_type": "markdown",
   "metadata": {},
   "source": [
    "## Use Simulated Annealing to Globally Optimize\n",
    "\n",
    "Here we will use simulated annealing, a method to globally optimize that does not require derivatives to conduct its optimization routine. So we will use the function $f$ we defined in the first part of the problem with no gradient or hessian."
   ]
  },
  {
   "cell_type": "code",
   "execution_count": 16,
   "metadata": {
    "collapsed": true
   },
   "outputs": [],
   "source": [
    "%Let's set the options for simulated annealing, we want display off\n",
    "options_3 = saoptimset('Display','off');"
   ]
  },
  {
   "cell_type": "code",
   "execution_count": 17,
   "metadata": {},
   "outputs": [
    {
     "name": "stdout",
     "output_type": "stream",
     "text": [
      "min_val_4 =\n",
      "\n",
      "   -1.5401\n",
      "\n",
      "\n",
      "f_val_4 =\n",
      "\n",
      "   -0.9758\n"
     ]
    }
   ],
   "source": [
    "%Write the maximization routine\n",
    "\n",
    "%we will reuse the initial starting point from the Multistart\n",
    "%problem, no need to create a new one.\n",
    "\n",
    "[min_val_4,f_val_4] = simulannealbnd(f,x0,[],[],options_3)"
   ]
  },
  {
   "cell_type": "markdown",
   "metadata": {},
   "source": [
    "We see here that the algorithm also is able to converge to the global optima."
   ]
  },
  {
   "cell_type": "markdown",
   "metadata": {},
   "source": [
    "# Problem 2: FMINCON\n",
    "\n",
    "We will resolve the problem with the constraint that $x\\in[0,3]$ using fmincon. We can either supply the gradient and the hessian or we can leave it out (that is, we can choose to use the f function or the f_grad_hess function that contains the gradient and the hessian). The default algorithm does not use user-supplied gradients. "
   ]
  },
  {
   "cell_type": "code",
   "execution_count": 18,
   "metadata": {},
   "outputs": [],
   "source": [
    "%set the options for fmincon, where we provide\n",
    "%user-supplied gradients and hessians:\n",
    "\n",
    "options_4 = optimoptions('fmincon','Algorithm','trust-region-reflective',...\n",
    "                         'GradObj','on','Hessian','on','Display','off',...\n",
    "                         'UseParallel',true);"
   ]
  },
  {
   "cell_type": "code",
   "execution_count": 19,
   "metadata": {},
   "outputs": [
    {
     "name": "stdout",
     "output_type": "stream",
     "text": [
      "min_val_5 =\n",
      "\n",
      "    3.0000\n",
      "\n",
      "\n",
      "f_val_5 =\n",
      "\n",
      "    0.2311\n"
     ]
    }
   ],
   "source": [
    "%the upper and lower bounds:\n",
    "xlb = 0;\n",
    "xub = 3;\n",
    "\n",
    "%write the constrained minimization routine:\n",
    "\n",
    "[min_val_5,f_val_5] = fmincon(f_grad_hess,x0,[],[],...\n",
    "                              [],[],xlb,xub,[],options_4)"
   ]
  },
  {
   "cell_type": "markdown",
   "metadata": {},
   "source": [
    "The above minimization is likewise sensitive to starting values because both of the boundries, 0 and 3, are local minima. This can be seen in the graph, as there is a local maxima in $x\\in[0,3]$ that creates differente basins of attraction. We know that the true answer is 0. So we can also implement the global search routine to obtain this minima. "
   ]
  },
  {
   "cell_type": "markdown",
   "metadata": {},
   "source": [
    "# Problem 2: Using Mutistart or Simulated Annealing for Global Optimization\n",
    "\n",
    "We can also use MultiStart to solve for the global optima of our constraint problem. Because we are using FMINCON, we can use matlab's GlobalSearch problem instead of MultiSearch (however, if we want to parallelize the problem across our computer's cores we would have to use MultiStart)."
   ]
  },
  {
   "cell_type": "code",
   "execution_count": 20,
   "metadata": {},
   "outputs": [],
   "source": [
    "%Since we have already defined the problems previously, lets recycle\n",
    "%We will use the associated optimization options and the objective\n",
    "%function (with the programmed hessian and gradient) from f_grad_hess\n",
    "%(we could also use f, but would need to adjust options to turn off\n",
    "%the user-supplied gradients and hessian).\n",
    "\n",
    "%with the original problem in the first cells above, define problem\n",
    "problem_2 = createOptimProblem('fmincon','objective',f_grad_hess,...\n",
    "                               'x0',x0,'lb',xlb,'ub',xub,...\n",
    "                               'options', options_4);\n",
    "                             \n",
    "ms_2 = MultiStart('UseParallel', true);"
   ]
  },
  {
   "cell_type": "code",
   "execution_count": 21,
   "metadata": {},
   "outputs": [
    {
     "name": "stdout",
     "output_type": "stream",
     "text": [
      "MultiStart completed the runs from all start points.\n",
      "\n",
      "All 50 local solver runs converged with a positive local solver exit flag.\n",
      "\n",
      "min_val_6 =\n",
      "\n",
      "   7.0460e-12\n",
      "\n",
      "\n",
      "f_val_6 =\n",
      "\n",
      "   7.0460e-12\n"
     ]
    }
   ],
   "source": [
    "%write the MultiStart routine on 100 points\n",
    "\n",
    "[min_val_6,f_val_6] = run(ms_2,problem_2,n_solvers)"
   ]
  },
  {
   "cell_type": "markdown",
   "metadata": {},
   "source": [
    "## Globally Constrained Optimization with Simulated Annealing\n",
    "\n",
    "We can also use simulated annealing here with matlab. But ONLY because our constraints are bounds (S.A. in matlab currently only works with constraints that form upper and lower bounds; if we had linear euqality, inequality, or nonlinear constraints we would have to use FMINCON because S.A. does not allow for these types of constraints). "
   ]
  },
  {
   "cell_type": "code",
   "execution_count": 22,
   "metadata": {},
   "outputs": [
    {
     "name": "stdout",
     "output_type": "stream",
     "text": [
      "min_val_7 =\n",
      "\n",
      "   8.5550e-10\n",
      "\n",
      "\n",
      "f_val_7 =\n",
      "\n",
      "   8.5550e-10\n"
     ]
    }
   ],
   "source": [
    "%We can recycle code from problem 1 and the bounds already \n",
    "%defined. We will not need to create a new set of options either.\n",
    "%Once again, we will use the function f we defined previously and\n",
    "%not the function with the gradient and the hessian. We will also \n",
    "\n",
    "[min_val_7,f_val_7] = simulannealbnd(f,x0,xlb,xub,options_3)"
   ]
  },
  {
   "cell_type": "markdown",
   "metadata": {},
   "source": [
    "# Problem 3: OLS minimization with FMINUNC"
   ]
  },
  {
   "cell_type": "code",
   "execution_count": 2,
   "metadata": {
    "collapsed": true
   },
   "outputs": [],
   "source": [
    "%Load the data\n",
    "data = load('NerloveData.m');\n",
    "\n",
    "%Remove the first column ('names' of firms):\n",
    "data(:,1)=[];\n",
    "\n",
    "%Sample Size (number of rows = number of samples)\n",
    "N = size(data,1);\n",
    "\n",
    "%Create the Y and X arrays (remember to take the logs):\n",
    "\n",
    "%Y is column 1\n",
    "Y = log(data(:,1));\n",
    "\n",
    "%X matrix will be from data(:,2:end) and a constant\n",
    "constant = ones(N,1);\n",
    "\n",
    "X = [constant log(data(:,2:end))];\n",
    "\n",
    "%Number of regressors:\n",
    "K = size(X,2);"
   ]
  },
  {
   "cell_type": "code",
   "execution_count": 24,
   "metadata": {},
   "outputs": [],
   "source": [
    "%Create the anonymous function that will be minimized:\n",
    "\n",
    "SSR = @(beta) (Y - X*beta)'*(Y - X*beta);"
   ]
  },
  {
   "cell_type": "code",
   "execution_count": 25,
   "metadata": {},
   "outputs": [],
   "source": [
    "%Create the initial value of the betas (we have 5). We\n",
    "%will just start with a vecotr of 0s.\n",
    "\n",
    "beta_0 = zeros(K,1);"
   ]
  },
  {
   "cell_type": "code",
   "execution_count": 26,
   "metadata": {},
   "outputs": [
    {
     "name": "stdout",
     "output_type": "stream",
     "text": [
      "beta_hat =\n",
      "\n",
      "   -3.5347\n",
      "    0.7204\n",
      "    0.4371\n",
      "    0.4264\n",
      "   -0.2184\n",
      "\n",
      "\n",
      "SSR_min =\n",
      "\n",
      "   21.5520\n"
     ]
    }
   ],
   "source": [
    "%Create the minimization routine:\n",
    "%we can use the same options we used for our function f \n",
    "%in problem 1 since we use the same routine.\n",
    "\n",
    "[beta_hat,SSR_min] = fminunc(SSR,beta_0,options)"
   ]
  },
  {
   "cell_type": "code",
   "execution_count": 27,
   "metadata": {},
   "outputs": [
    {
     "name": "stdout",
     "output_type": "stream",
     "text": [
      "sigma_hat =\n",
      "\n",
      "    0.3924\n",
      "\n",
      "\n",
      "SE_beta =\n",
      "\n",
      "    1.7744\n",
      "    0.0175\n",
      "    0.2910\n",
      "    0.1004\n",
      "    0.3394\n"
     ]
    }
   ],
   "source": [
    "%Generate the epsilons and the SE of the betas\n",
    "eps = Y-X*beta_hat;\n",
    "\n",
    "%model variance:\n",
    "var = eps'*eps/(N-K);\n",
    "\n",
    "%the standard deviation of the model:\n",
    "sigma_hat = sqrt(var)\n",
    "\n",
    "%Variance-Covariance matrix of the beta parameters:\n",
    "Var_Cov_beta = var*inv(X'*X);\n",
    "\n",
    "%The standard errors of the betas:\n",
    "SE_beta = sqrt(diag(Var_Cov_beta))"
   ]
  },
  {
   "cell_type": "code",
   "execution_count": 2,
   "metadata": {},
   "outputs": [
    {
     "name": "stdout",
     "output_type": "stream",
     "text": [
      "Parallel pool using the 'local' profile is shutting down.\n"
     ]
    }
   ],
   "source": [
    "%shut down parallel computing\n",
    "delete(gcp('nocreate'))"
   ]
  }
 ],
 "metadata": {
  "kernelspec": {
   "display_name": "Matlab",
   "language": "matlab",
   "name": "matlab"
  },
  "language_info": {
   "codemirror_mode": "octave",
   "file_extension": ".m",
   "help_links": [
    {
     "text": "MetaKernel Magics",
     "url": "https://github.com/calysto/metakernel/blob/master/metakernel/magics/README.md"
    }
   ],
   "mimetype": "text/x-matlab",
   "name": "matlab",
   "version": "0.14.3"
  }
 },
 "nbformat": 4,
 "nbformat_minor": 1
}
