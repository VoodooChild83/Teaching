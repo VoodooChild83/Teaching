{
 "cells": [
  {
   "cell_type": "code",
   "execution_count": 1,
   "metadata": {
    "collapsed": false
   },
   "outputs": [
    {
     "name": "stdout",
     "output_type": "stream",
     "text": [
      "Starting parallel pool (parpool) using the 'local' profile ... connected to 4 workers.\n",
      "\n",
      "ans = \n",
      "\n",
      " Pool with properties: \n",
      "\n",
      "            Connected: true\n",
      "           NumWorkers: 4\n",
      "              Cluster: local\n",
      "        AttachedFiles: {}\n",
      "          IdleTimeout: 30 minute(s) (30 minutes remaining)\n",
      "          SpmdEnabled: true\n"
     ]
    }
   ],
   "source": [
    "clear all; clc; parpool"
   ]
  },
  {
   "cell_type": "markdown",
   "metadata": {},
   "source": [
    "# Problem 1\n",
    "\n",
    "Load data and use normal pdf for the MLE estimation (the assumption being that if the errors are asymptotically normal then we can use this pdf for the MLE). It will also be efficient as the Var-Cov of the estimated parameters reach the Cramer-Rao lower bound. \n",
    "\n",
    "\\begin{equation*}\n",
    "f\\left(x; \\mu,\\sigma^{2}\\right) = \\frac{1}{\\sqrt{2\\pi\\sigma^{2}}}\\exp\\left(-\\frac{(x-\\mu)^{2}}{2\\sigma^{2}}\\right)\n",
    "\\end{equation*}\n",
    "\n",
    "Now this pdf is for the realization of just one observation. If observations are i.i.d. (that is, they are independent of each other and identically distributed - all of them are likewise normal) then by independence we can write the joint distribution of all of these observations as the multiplication of each probability of its realization:\n",
    "\n",
    "\\begin{equation*}\n",
    "f\\left(x_{1},...,x_{n}; \\mu,\\sigma^{2}\\right) = \\prod_{i=1}^{n}f\\left(x_{i}; \\mu,\\sigma^{2}\\right)=\\left(\\frac{1}{\\sqrt{2\\pi\\sigma^{2}}}\\right)^{n}\\exp\\left(-\\frac{\\sum_{i=1}^{n}(x_{i}-\\mu)^{2}}{2\\sigma^{2}}\\right)\n",
    "\\end{equation*}\n",
    "\n",
    "This equation summarizes the likelihood that we observe the given data, parameterized by $\\mu$ and $\\sigma^{2}$. We can linearize this equation easily by taking logs so that we obtain the log-likelihood function (the one we will maximize). \n",
    "\n",
    "\\begin{equation*}\n",
    "\\mathcal{L}(\\mu,\\sigma^{2};x_{1},...,x_{n}) = \\log\\left(f\\left(x_{1},...,x_{n}; \\mu,\\sigma^{2}\\right)\\right) = -\\frac{n}{2}\\log\\left(2\\pi\\sigma^{2} \\right) - \\frac{1}{2\\sigma^2}\\sum_{i=1}^{n}\\left( x_{i} - \\mu\\right)^{2}\n",
    "\\end{equation*}\n",
    "\n",
    "The above equation is abusing notaion since it is inherently a conditional function as we will actually have that $f_{YX}(Y,X,\\beta) = f_{Y\\mid X}(Y\\mid X,\\beta)f_{X}(X\\mid\\theta)$. But if $X$ satisfies the assumptions of the linear model, $\\theta$ (the parameters describing our covariates) and $\\beta$ will be independent of each other and so by the assumed exogeneity of $X$ we will only have to work with $f_{Y\\mid X}(Y\\mid X,\\beta)$ to estimate the $\\beta$ parameters. \n",
    "\n",
    "We can rewrite the above into our objective function by: 1) replaceing $x_i$ with our observed dependent variable $y_i$ and our population estimate of $\\mu$ is simply $x_{i}'\\beta$ (recall that this is a population average that describes the $\\mu$). So we have:\n",
    "\n",
    "\\begin{align*}\n",
    "\\mathcal{L}(\\beta,\\sigma^{2};y_{1},...,y_{n}\\mid x_{1},...,x_{n}) &= \\\\\n",
    "\\log\\left(f\\left(y_{1},...,y_{n}\\mid x_{1},...,x_{n}; \\beta,\\sigma^{2}\\right)\\right) &= -\\frac{n}{2}\\log\\left(2\\pi\\sigma^{2} \\right) - \\frac{1}{2\\sigma^2}\\sum_{i=1}^{n}\\left( y_{i} - x_{i}'\\beta\\right)^{2}\n",
    "\\end{align*}\n",
    "\n",
    "In matrix mathematics we can write the above as:\n",
    "\n",
    "\\begin{equation*}\n",
    "\\mathcal{L}(\\beta,\\sigma^{2};y_{1},...,y_{n}\\mid x_{1},...,x_{n}) = -\\frac{n}{2}\\log\\left(2\\pi\\sigma^{2} \\right) - \\frac{1}{2\\sigma^2}\\left( Y - X\\cdot\\beta\\right)'\\cdot\\left( Y - X\\cdot\\beta\\right)\n",
    "\\end{equation*}\n",
    "\n",
    "Now we program the above. I will do so as an anonymous function. It will be dependent on a vector theta. This vector is basically: $\\theta=[\\beta,\\sigma]'$ (the concatenated vector of $\\beta$s and the $\\sigma$ parameter."
   ]
  },
  {
   "cell_type": "code",
   "execution_count": 5,
   "metadata": {
    "collapsed": false
   },
   "outputs": [],
   "source": [
    "%Load the data and clean\n",
    "fname = ['/Users/idiosyncrasy58/Dropbox/Documents/College'...\n",
    "         '/Universitat Autonoma de Barcelona/IDEA - '...\n",
    "         'Economics/Teaching Assistant/GSE Tutoring - '...\n",
    "         'Econometrics/Practice/Creel Homework Assignments '...\n",
    "         'GSE/PS2/NerloveData.m'];\n",
    "         \n",
    "data = load(fname);\n",
    "\n",
    "%Remove the first column ('names' of firms):\n",
    "data(:,1)=[];\n",
    "\n",
    "%Sample Size (number of rows = number of samples)\n",
    "N = size(data,1);\n",
    "\n",
    "%Create the Y and X arrays (remember to take the logs):\n",
    "\n",
    "%Y is column 1\n",
    "Y = log(data(:,1));\n",
    "\n",
    "%X matrix will be from data(:,2:end) and a constant\n",
    "constant = ones(N,1);\n",
    "\n",
    "X = [constant log(data(:,2:end))];\n",
    "\n",
    "%Number of regressors:\n",
    "K = size(X,2);"
   ]
  },
  {
   "cell_type": "code",
   "execution_count": 30,
   "metadata": {
    "collapsed": true
   },
   "outputs": [],
   "source": [
    "%The anonymous function:\n",
    "%here theta is the parameter vector that includes \n",
    "%both the betas and the sigma (variance of the model).\n",
    "%Use end-1 to select the set of parameters\n",
    "%that correspond to the betas, since the last object\n",
    "%is the sigma parameter\n",
    "\n",
    "%Remember: WE ARE MAXIMIZING -> Obective Function must be \n",
    "%multiplied by -1 so that FMINUNC maximizes (by the \n",
    "%property that multiplying a function by -1 generates\n",
    "%the reflection)\n",
    "\n",
    "L = @(theta) -1*(-(N/2)*log(2*pi*theta(end).^2) - (1/(2*theta(end).^2))*...\n",
    "            (Y-X*theta(1:end-1))'*(Y-X*theta(1:end-1)));"
   ]
  },
  {
   "cell_type": "code",
   "execution_count": 7,
   "metadata": {
    "collapsed": true
   },
   "outputs": [],
   "source": [
    "%set the options\n",
    "%1. The algorithm will be quasi-newton (this is because the \n",
    "%   default algorithm, 'trust-region', requires the user to\n",
    "%   input the gradient of the function as a second function),\n",
    "%2. We will turn the display off (so we don't have a bunch of\n",
    "%   crap on the screen).\n",
    "%3. We will ask that the hessian use the 'bfsg' algorithm to \n",
    "%   update the search pattern.\n",
    "\n",
    "options = optimoptions(@fminunc,'Algorithm','quasi-newton',...\n",
    "                       'Display','off','HessUpdate','bfgs');"
   ]
  },
  {
   "cell_type": "code",
   "execution_count": 8,
   "metadata": {
    "collapsed": false
   },
   "outputs": [],
   "source": [
    "%The starting value is a random vector\n",
    "%recall that we need to create a (K+1)x1\n",
    "%vector since the '1' above is the sigma\n",
    "%parameter of the errors.\n",
    "\n",
    "beta_0 = ones(K+1,1);"
   ]
  },
  {
   "cell_type": "code",
   "execution_count": 9,
   "metadata": {
    "collapsed": false
   },
   "outputs": [
    {
     "name": "stdout",
     "output_type": "stream",
     "text": [
      "beta_hat =\n",
      "\n",
      "   -3.5270\n",
      "    0.7204\n",
      "    0.4363\n",
      "    0.4265\n",
      "   -0.2198\n",
      "    0.3855\n"
     ]
    }
   ],
   "source": [
    "[beta_hat] = fminunc(L,beta_0,options)"
   ]
  },
  {
   "cell_type": "markdown",
   "metadata": {},
   "source": [
    "# Problem 3 \n",
    "\n",
    "From the notes we know that the pdf of a single observation is the following when $y\\in{0,1}$:\n",
    "\n",
    "\\begin{equation*}\n",
    "f_{Y}(y;p_{0}) = p_{0}^{y}\\cdot(1-p_{0})^{1-y}\n",
    "\\end{equation*}\n",
    "\n",
    "Since we are told that we have an i.i.d. sample of observations on y, we can take the joint pdf of the y samples as:\n",
    "\n",
    "\\begin{align*}\n",
    "f_{Y}(y_{1},...,y_{n};p_{0}) &= \\prod_{i=1}^{n}p_{0}^{y_{i}}\\cdot(1-p_{0})^{1-y_{i}}\\\\\n",
    "&=p_{0}^{\\sum_{i=1}^{n}y_{i}}\\cdot(1-p_{0})^{\\sum_{i=1}^{n}1-y_{i}}\n",
    "\\end{align*}\n",
    "\n",
    "Applying logs to the above equation gives us the log-likelihood function:\n",
    "\n",
    "\\begin{equation*}\n",
    "\\mathcal{L}(p_{0};y_1...y_n) = \\log f\\left(y_1,...,y_n; p_{0}\\right)=\\sum_{i=1}^{n}y_{i}\\log(p_{0})+(1-y_{i})\\log(1-p_{0})\n",
    "\\end{equation*}\n",
    "\n",
    "We need to set up a Monte-Carlo by using the population probability of $p_{0}=0.2$ to generate a vector y, that we will then use as our observed variable. Since we are told $y\\in\\{0,1\\}$ we will have to tell matlab to generate a \"dummy\" for y indicating that the trial was successful; i.e. $f(y_{i}\\leq0.2)=1$. For each sample size we will run 1000 simulations.\n",
    "\n",
    "Since we will have to run many minimization routines on different sample sizes we will write an external function that estimates the probability through maximization. We know that $p\\in[0,1]$. Although we don't have to it would likely be best if we were to conduct a constrained optimization with the upper and lower bounds as the probability space indicated."
   ]
  },
  {
   "cell_type": "code",
   "execution_count": 1,
   "metadata": {
    "collapsed": true
   },
   "outputs": [],
   "source": [
    "%We are asked for sample sizes N=5,50,500. Let's create a\n",
    "%vector of these samples sizes (I did this with an extra\n",
    "%sample size to get nicer graph outputs).\n",
    "\n",
    "N=[5;50;500;5000];\n",
    "\n",
    "%population probability\n",
    "p_true = 0.2;\n",
    "\n",
    "%Simulation run\n",
    "T=1000;\n",
    "\n",
    "%Initialize the vectors for the output of the Monte Carlo\n",
    "%We will initialize a vector of 1000x4, since we have 4\n",
    "%sample sizes, that is the size of the N vector we created\n",
    "%is 4x1.\n",
    "p_hat = NaN(T,size(N,1));\n",
    "\n",
    "%A starting value of guess for the p_hat that we will find\n",
    "p_0 = rand;\n",
    "\n",
    "%Our options for the maximization routine:\n",
    "\n",
    "options_2 = optimoptions('fmincon','Algorithm','interior-point',...\n",
    "                         'Display','off','UseParallel',true);"
   ]
  },
  {
   "cell_type": "code",
   "execution_count": 2,
   "metadata": {
    "collapsed": false
   },
   "outputs": [
    {
     "name": "stdout",
     "output_type": "stream",
     "text": [
      "Starting parallel pool (parpool) using the 'local' profile ... connected to 4 workers.\n",
      "Elapsed time is 37.069663 seconds.\n"
     ]
    }
   ],
   "source": [
    "%Program the Monte-Carlo experiment\n",
    "\n",
    "%outer loop runs the sample sizes\n",
    "tic\n",
    "for i=1:size(N,1)\n",
    "\n",
    "    sample_size = N(i);\n",
    "    \n",
    "    %run inner loop = MC loop - to make this go fast \n",
    "    %we will need to parallelize this otherwise it will\n",
    "    %take forever\n",
    "    \n",
    "    parfor j=1:T\n",
    "    \n",
    "        %First we generate a random sample of points\n",
    "        %between 0 and 1. We use the rand function \n",
    "        %to do this\n",
    "        \n",
    "        Y_raw = rand(sample_size,1);\n",
    "        \n",
    "        %Now we need to create the Y vector such that it\n",
    "        %takes the value 1 if the probability is less than\n",
    "        %or equal to 0.2, and 0 otherwise.\n",
    "        \n",
    "        Y = (Y_raw <= p_true);\n",
    "        \n",
    "        %Now we can run the fminunc routine on the sample Y \n",
    "        %and find the p that maximizes the likelihood of \n",
    "        %observing our sample vector Y:\n",
    "        \n",
    "        p_hat(j,i) = fmincon(@(p) Bernoulli(p,sample_size,Y),...\n",
    "                             p_0,[],[],[],[],0,1,[],options_2)\n",
    "    \n",
    "    end\n",
    "\n",
    "end\n",
    "toc"
   ]
  },
  {
   "cell_type": "markdown",
   "metadata": {},
   "source": [
    "Now we can generate the mean and the standard error of the estimates of p from the MC simulation by taking the mean and the standard deviation, respectively. "
   ]
  },
  {
   "cell_type": "code",
   "execution_count": 3,
   "metadata": {
    "collapsed": false
   },
   "outputs": [
    {
     "name": "stdout",
     "output_type": "stream",
     "text": [
      "p_mean =\n",
      "\n",
      "    0.1960    0.1991    0.1999    0.2001\n",
      "\n",
      "\n",
      "p_SE =\n",
      "\n",
      "    0.1771    0.0584    0.0178    0.0058\n"
     ]
    }
   ],
   "source": [
    "p_mean = mean(p_hat)\n",
    "p_SE = std(p_hat)"
   ]
  },
  {
   "cell_type": "markdown",
   "metadata": {},
   "source": [
    "Michael asked to show that the following is normally distributed: $\\sqrt{n}\\cdot\\left(\\widehat{p}-p\\right)$. We can generate this as a new vector:"
   ]
  },
  {
   "cell_type": "code",
   "execution_count": 4,
   "metadata": {
    "collapsed": false
   },
   "outputs": [],
   "source": [
    "%To implement the solution we will vectorize:\n",
    "%Since N is a 3x1 vector I will create a 3x3\n",
    "%matrix with all the elements on the diagonal.\n",
    "%I can take the square root of this and multiply\n",
    "%this to the transpose of p_hat-ptrue (which becomes\n",
    "%3x1000 when transposed). This gives a 3x1000\n",
    "%matrix where the square root of each sample size\n",
    "%was multiplied as a scalar to the row of the \n",
    "%associated estimates that used that sample size.\n",
    "\n",
    "p_centered = (sqrt(diag(N))*(p_hat - p_true)')';"
   ]
  },
  {
   "cell_type": "markdown",
   "metadata": {},
   "source": [
    "Now that we have centered the distribution, we can find the mean and variance of this array to see if we are converging to the asymptotic distribution. That is, it should be the case that we are moving towards $\\text{E}(p_{centered})=0$ and $\\text{Var}_{\\infty}(p_{centered}) = p-p^{2}$ (the variance associated with the true paramater)."
   ]
  },
  {
   "cell_type": "code",
   "execution_count": 5,
   "metadata": {
    "collapsed": false
   },
   "outputs": [
    {
     "name": "stdout",
     "output_type": "stream",
     "text": [
      "var_p_true =\n",
      "\n",
      "    0.1600\n"
     ]
    }
   ],
   "source": [
    "var_p_true = p_true - p_true^2"
   ]
  },
  {
   "cell_type": "code",
   "execution_count": 6,
   "metadata": {
    "collapsed": false
   },
   "outputs": [
    {
     "name": "stdout",
     "output_type": "stream",
     "text": [
      "E_p_centered =\n",
      "\n",
      "   -0.0089   -0.0066   -0.0031    0.0053\n",
      "\n",
      "\n",
      "var_p_centered =\n",
      "\n",
      "    0.1569    0.1707    0.1577    0.1659\n"
     ]
    }
   ],
   "source": [
    "E_p_centered = mean(p_centered)\n",
    "var_p_centered = var(p_centered)"
   ]
  },
  {
   "cell_type": "markdown",
   "metadata": {},
   "source": [
    "Now we graph the histograms of these centered p values"
   ]
  },
  {
   "cell_type": "code",
   "execution_count": 7,
   "metadata": {
    "collapsed": false
   },
   "outputs": [
    {
     "data": {
      "image/png": "[encoded data removed]",
      "text/plain": [
       "<IPython.core.display.Image object>"
      ]
     },
     "metadata": {},
     "output_type": "display_data"
    }
   ],
   "source": [
    "%Generate the histogram of the monte-carlo exercise with a \n",
    "%normal distribution super-imposed to see how the sample\n",
    "%sizes are in relation to the normal. We will create\n",
    "%subplots.\n",
    "\n",
    "%First, let's set the bins (how the data is grouped)\n",
    "bins=30;\n",
    "\n",
    "%Second, let's find the global minimum and the maximum across \n",
    "%all the sameple sizes to set the same axis across all \n",
    "%the subplots beta_sim_1 to more easily compare how the dispersion\n",
    "%(shape of the bell curve) of the estimates change as N changes. \n",
    "%Since we have two dimensions we should use nested min and max \n",
    "%statements to get the global value.\n",
    "\n",
    "x_axis_min = min(min(p_centered));\n",
    "x_axis_max = max(max(p_centered));\n",
    "\n",
    "%Finally, we run through a loop across the columns of p_centered\n",
    "%to generate a plot of the distribution of each column (so there \n",
    "%will be 4 subplots).\n",
    "\n",
    "for i=1:size(N,1)\n",
    "\n",
    "    subplot(2,2,i);\n",
    "    histfit(p_centered(:,i),bins)\n",
    "    title(['T=1000 & N=' num2str(N(i))], 'FontSize',8)\n",
    "    xlabel('MLE estimates of p_0','FontSize',8)\n",
    "    ylabel('Density', 'FontSize',8)\n",
    "    xlim([x_axis_min x_axis_max])\n",
    "    \n",
    "end"
   ]
  },
  {
   "cell_type": "markdown",
   "metadata": {},
   "source": [
    "As we can see, as the sample size increases the histogram looks much more normal. "
   ]
  },
  {
   "cell_type": "code",
   "execution_count": 8,
   "metadata": {
    "collapsed": false
   },
   "outputs": [
    {
     "name": "stdout",
     "output_type": "stream",
     "text": [
      "Parallel pool using the 'local' profile is shutting down.\n"
     ]
    }
   ],
   "source": [
    "delete(gcp('nocreate'))"
   ]
  },
  {
   "cell_type": "markdown",
   "metadata": {},
   "source": [
    "# Problem 6\n",
    "\n",
    "## Estimation of the ARCH(1) model"
   ]
  },
  {
   "cell_type": "code",
   "execution_count": 24,
   "metadata": {
    "collapsed": false
   },
   "outputs": [
    {
     "data": {
      "image/png": "[encoded data removed]",
      "text/plain": [
       "<IPython.core.display.Image object>"
      ]
     },
     "metadata": {},
     "output_type": "display_data"
    },
    {
     "name": "stdout",
     "output_type": "stream",
     "text": [
      "Warning: Gradient must be provided for trust-region algorithm; using quasi-newton algorithm instead.\n",
      "> In fminunc (line 402)\n",
      "\n",
      "Local minimum possible.\n",
      "\n",
      "fminunc stopped because the size of the current step is less than\n",
      "the default value of the step size tolerance.\n",
      "\n",
      "\n",
      "\n",
      "ARCH(1) results for NYSEWK data set (fminunc)\n",
      "the estimate\n",
      "    0.1659\n",
      "    3.1691\n",
      "    0.2539\n",
      "\n",
      "the logL value  -4.4647e+03\n",
      "\n",
      "BIC value   8.9523e+03\n",
      "\n",
      "AIC value   8.9323e+03\n",
      "\n",
      "\n",
      "Local minimum possible. Constraints satisfied.\n",
      "\n",
      "fmincon stopped because the size of the current step is less than\n",
      "the default value of the step size tolerance and constraints are \n",
      "satisfied to within the default value of the constraint tolerance.\n",
      "\n",
      "\n",
      "\n",
      "ARCH(1) results for NYSEWK data set (fmincon - impose stationarity) \n",
      "the estimate\n",
      "    0.1659\n",
      "    3.1691\n",
      "    0.2539\n",
      "\n",
      "the logL value  -4.4647e+03\n",
      "\n",
      "\n",
      "Local minimum possible. Constraints satisfied.\n",
      "\n",
      "fmincon stopped because the size of the current step is less than\n",
      "the default value of the step size tolerance and constraints are \n",
      "satisfied to within the default value of the constraint tolerance.\n",
      "\n",
      "\n",
      "\n",
      "ARCH(1) results for NYSEWK data set (fmincon - impose silly restriction) \n",
      "the estimate\n",
      "    0.1730\n",
      "    2.1769\n",
      "    0.3231\n",
      "\n",
      "the logL value  -4.5096e+03\n",
      "\n",
      "the LR test statistic   89.8735\n"
     ]
    }
   ],
   "source": [
    "usematlab = true;\n",
    "\n",
    "% weekly close price of NSYE, data provided with GRETL\n",
    "load nysewk.mat;\n",
    "n = size(nysewk);\n",
    "y = 100 * log( nysewk(2:n) ./ nysewk(1:n-1) );\n",
    "data = y;\n",
    "plot(y);\n",
    "\n",
    "%%%%%%%%%%%%%%% Unconstrained maximization of logL  %%%%%%%%%%%\n",
    "% note that the objective has a minus sign in front, as fminunc\n",
    "% minimizes, but we want to maximize the logL\n",
    "thetastart = [mean(y); var(y); 0.1];\n",
    "[thetahat, logL] = fminunc(@(theta) -arch1(theta, data), thetastart);\n",
    "\n",
    "logL = -logL; % re-convert\n",
    "\n",
    "%%%%%%%%%%%%%%%%   Results   %%%%%%%%%%%%%%%%\n",
    "fprintf('ARCH(1) results for NYSEWK data set (fminunc)\\n');\n",
    "\n",
    "fprintf('the estimate\\n');\n",
    "disp(thetahat);\n",
    "\n",
    "fprintf('the logL value');\n",
    "disp(logL);\n",
    "\n",
    "BIC = -2*logL + size(thetahat,1)*log(size(y,1));\n",
    "AIC = -2*logL + size(thetahat,1);\n",
    "fprintf('BIC value');\n",
    "disp(BIC);\n",
    "fprintf('AIC value');\n",
    "disp(AIC);\n",
    "\n",
    "%%%%%%%%%%%%%%% Constrained maximization of logL  %%%%%%%%%%%\n",
    "%  ARCH model needs parameter restrictions for stationariry and positive variance\n",
    "%  fmincon can be used to impose them\n",
    "lb = [-Inf; 0; 0];\n",
    "ub = [Inf; Inf; 1];\n",
    "if usematlab\n",
    "  [thetahat, logL] = fmincon(@(theta) -arch1(theta, data), thetastart, [],[], [],[], lb, ub);\n",
    "else\n",
    "  [thetahat, logL] = sqp(thetahat, @(theta) -arch1(theta,data),[], [], lb, ub); %Octave replacement for fmincon\n",
    "end\n",
    "\n",
    "logL_UR = -logL; % re-convert\n",
    "\n",
    "%%%%%%%%%%%%%%%%   Results   %%%%%%%%%%%%%%%%\n",
    "fprintf('ARCH(1) results for NYSEWK data set (fmincon - impose stationarity) \\n');\n",
    "\n",
    "fprintf('the estimate\\n');\n",
    "disp(thetahat);\n",
    "\n",
    "fprintf('the logL value');\n",
    "disp(logL_UR);\n",
    "\n",
    "%%%%%%%% here's an example of a binding constraint: use the results to do LR test   \n",
    "R = [0 1 1]; % a silly constraint: make last 2 coefficients add to 2.5\n",
    "r = 2.5;\n",
    "lb = [-Inf; 0; 0];\n",
    "ub = [Inf; Inf; 1];\n",
    "if usematlab\n",
    "  [thetahat_r, logL] = fmincon(@(theta) -arch1(theta, data), thetastart, [],[],R,r, lb, ub);\n",
    "else\n",
    "  [thetahat_r, logL] = sqp(thetahat, @(theta) -arch1(theta,data),@(theta) R*theta-r, [], lb, ub); %Octave replacement for fmincon\n",
    "end\n",
    "logL_R = -logL; % re-convert\n",
    "\n",
    "%%%%%%%%%%%%%%%%   Results   %%%%%%%%%%%%%%%%\n",
    "fprintf('ARCH(1) results for NYSEWK data set (fmincon - impose silly restriction) \\n');\n",
    "\n",
    "fprintf('the estimate\\n');\n",
    "disp(thetahat_r);\n",
    "\n",
    "fprintf('the logL value');\n",
    "disp(logL_R);\n",
    "\n",
    "fprintf('the LR test statistic');\n",
    "disp(2*(logL_UR-logL_R));\n"
   ]
  },
  {
   "cell_type": "markdown",
   "metadata": {},
   "source": [
    "## Estimation of the GARCH(1,1) model"
   ]
  },
  {
   "cell_type": "code",
   "execution_count": 25,
   "metadata": {
    "collapsed": false
   },
   "outputs": [
    {
     "name": "stdout",
     "output_type": "stream",
     "text": [
      "Warning: Gradient must be provided for trust-region algorithm; using quasi-newton algorithm instead.\n",
      "> In fminunc (line 402)\n",
      "\n",
      "Local minimum possible.\n",
      "\n",
      "fminunc stopped because the size of the current step is less than\n",
      "the default value of the step size tolerance.\n",
      "\n",
      "\n",
      "\n",
      "GARCH(1,1) results for NYSEWK data set (fminunc)\n",
      "the estimate\n",
      "    0.1769\n",
      "    0.1602\n",
      "    0.1125\n",
      "    0.8533\n",
      "\n",
      "the logL value  -4.3974e+03\n",
      "\n",
      "BIC value   8.8254e+03\n",
      "\n",
      "AIC value   8.7988e+03\n"
     ]
    }
   ],
   "source": [
    "%%\n",
    "%%%%%%%%%%%%%%% Unconstrained maximization of logL  %%%%%%%%%%%\n",
    "% note that the objective has a minus sign in front, as fminunc\n",
    "% minimizes, but we want to maximize the logL\n",
    "thetastart = [mean(y); var(y); 0.1; 0.1];\n",
    "[thetahat, logL] = fminunc(@(theta) -garch11(theta, data), thetastart);\n",
    "\n",
    "logL = -logL; % re-convert\n",
    "\n",
    "%%%%%%%%%%%%%%%%   Results   %%%%%%%%%%%%%%%%\n",
    "fprintf('GARCH(1,1) results for NYSEWK data set (fminunc)\\n');\n",
    "\n",
    "fprintf('the estimate\\n');\n",
    "disp(thetahat);\n",
    "\n",
    "fprintf('the logL value');\n",
    "disp(logL);\n",
    "\n",
    "BIC = -2*logL + size(thetahat,1)*log(size(y,1));\n",
    "AIC = -2*logL + size(thetahat,1);\n",
    "fprintf('BIC value');\n",
    "disp(BIC);\n",
    "fprintf('AIC value');\n",
    "disp(AIC);\n"
   ]
  },
  {
   "cell_type": "markdown",
   "metadata": {},
   "source": [
    "## Estimation of the ARCH(4) model"
   ]
  },
  {
   "cell_type": "code",
   "execution_count": 27,
   "metadata": {
    "collapsed": false
   },
   "outputs": [
    {
     "name": "stdout",
     "output_type": "stream",
     "text": [
      "Local minimum possible. Constraints satisfied.\n",
      "\n",
      "fmincon stopped because the size of the current step is less than\n",
      "the default value of the step size tolerance and constraints are \n",
      "satisfied to within the default value of the constraint tolerance.\n",
      "\n",
      "\n",
      "\n",
      "ARCH(4) results for NYSEWK data set (fmincon - impose stationarity) \n",
      "the estimate\n",
      "    0.1932\n",
      "    2.2139\n",
      "    0.2183\n",
      "    0.1158\n",
      "    0.0627\n",
      "    0.0974\n",
      "\n",
      "the logL value  -4.4302e+03\n",
      "\n",
      "BIC value   8.9063e+03\n",
      "\n",
      "AIC value   8.8664e+03\n"
     ]
    }
   ],
   "source": [
    "usematlab = true;\n",
    "% Arch1Example results for start values\n",
    "thetastart = [0.16; 3.17; 0.25; 0;0;0];\n",
    "\n",
    "%%%%%%%%%%%%%%% Constrained maximization of logL  %%%%%%%%%%%\n",
    "%  ARCH model needs parameter restrictions for stationariry and positive variance\n",
    "%  fmincon can be used to impose them\n",
    "lb = [-Inf; 0; 0; 0; 0; 0];\n",
    "ub = [Inf; Inf; 1;1;1;1];\n",
    "R = [0 0 1 1 1 1]; % \n",
    "r = 1;\n",
    "if usematlab\n",
    "  [thetahat, logL] = fmincon(@(theta) -arch4(theta, data), thetastart, R,r, [],[], lb, ub);\n",
    "else\n",
    "  [thetahat, logL] = sqp(thetastart, @(theta) -arch4(theta,data),[], @(theta) r-R*theta, lb, ub); %Octave replacement for fmincon\n",
    "end\n",
    "logL = -logL; % re-convert\n",
    "\n",
    "%%%%%%%%%%%%%%%%   Results   %%%%%%%%%%%%%%%%\n",
    "fprintf('ARCH(4) results for NYSEWK data set (fmincon - impose stationarity) \\n');\n",
    "\n",
    "fprintf('the estimate\\n');\n",
    "disp(thetahat);\n",
    "\n",
    "fprintf('the logL value');\n",
    "disp(logL);\n",
    "\n",
    "\n",
    "BIC = -2*logL + size(thetahat,1)*log(size(y,1));\n",
    "AIC = -2*logL + size(thetahat,1);\n",
    "fprintf('BIC value');\n",
    "disp(BIC);\n",
    "fprintf('AIC value');\n",
    "disp(AIC);\n"
   ]
  },
  {
   "cell_type": "markdown",
   "metadata": {},
   "source": [
    "## Analysis\n",
    "\n",
    "Regarding stationary restrictions (only for ARCH models): they hold, implying the distributions are stationary (as they should be).\n",
    "\n",
    "Regarding the likelihood values: We see that the GARCH(1,1) model has the largest likelihood value. However, given that these models do not have the same number of parameters we need a measure that does not rely on the number of parameters. \n",
    "\n",
    "I have also calculated the AIC as well as the supplied BIC. We see the following patterns for both the AIC and BIC:\n",
    "\\begin{equation*}\n",
    "\\text{GARCH}(1,1)<\\text{ARCH}(4)<\\text{ARCH}(1)\n",
    "\\end{equation*}\n",
    "So in terms of model selection crieria, since we pick the model with the smallest AIC or BIC we would choose the GARCH(1,1) model. "
   ]
  }
 ],
 "metadata": {
  "kernelspec": {
   "display_name": "Matlab",
   "language": "matlab",
   "name": "matlab"
  },
  "language_info": {
   "codemirror_mode": "octave",
   "file_extension": ".m",
   "help_links": [
    {
     "text": "MetaKernel Magics",
     "url": "https://github.com/calysto/metakernel/blob/master/metakernel/magics/README.md"
    }
   ],
   "mimetype": "text/x-octave",
   "name": "matlab",
   "version": "0.11.0"
  }
 },
 "nbformat": 4,
 "nbformat_minor": 1
}
