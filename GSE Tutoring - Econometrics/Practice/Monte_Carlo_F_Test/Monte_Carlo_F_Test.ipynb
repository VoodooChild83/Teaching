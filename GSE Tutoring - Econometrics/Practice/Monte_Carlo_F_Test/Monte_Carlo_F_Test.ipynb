{
 "cells": [
  {
   "cell_type": "markdown",
   "metadata": {},
   "source": [
    "# Test of how Correlated Regressors (a \"notion\" of Collinearity) affects F-test\n",
    "\n",
    "We will design the following DGP process:\n",
    "\n",
    "\\begin{align*}\n",
    "y_{i} &= 2 + 3\\cdot x_{i,1} + 4\\cdot x_{i,2}+\\varepsilon_{i} \\\\\n",
    "x_{i,2}&=\\rho\\cdot x_{i,1}+\\nu_{i} \\\\\n",
    "x_{i,1}&\\sim\\text{i.i.d. }\\mathcal{U}(0,1) \\\\\n",
    "\\nu_{i}&\\mid x_{i,1}\\sim\\text{i.i.d. }\\mathcal{N}(0,2) \\\\\n",
    "\\varepsilon_{i}&\\mid x_{i,1},x_{i,2}\\sim\\text{i.i.d. }\\mathcal{N}(0,1)\n",
    "\\end{align*}\n",
    "\n",
    "In the above $\\rho$ is a parameter that will control the degree to which $x_{1}$ and $x_{2}$ are correlated. This is one mechanism of affecting correlation. Another would be to generate a parameter that affects the disperson of the noise we are adding to the correlation process, $\\nu$. The more dispersed the noise the less correlated the two random variables will be; the less dispersed the noise the greater the degree of correlation. Obviously, if we didn't add this noise to the process then $x_1$ and $x_2$ would be perfectly colinear. The added noise merely induces a correlation rather than a colinearity among random variables. This is what is meant by \"degree of colinearity\" among random variables.  \n",
    "\n",
    "We know that estimation of the $\\beta$s of the above process will be biased in small samples depending on the degree of correlation between the two regressors. However, in large samples and as $N\\rightarrow\\infty$ the estimation of the parameters will be consistent. So we will not be looking at this part of the problem. Rather, we will study the effect of correlation between regressors on the standard errors of the parameters and its effect on inference testing. \n",
    "\n",
    "We will look at a sample size of $N=50$ and for varying $\\rho$s: $\\rho=[1,5,10,100]$. We will do 1000 simulations each time."
   ]
  },
  {
   "cell_type": "code",
   "execution_count": 124,
   "metadata": {
    "collapsed": false
   },
   "outputs": [],
   "source": [
    "%This cell initializes the process and the variables\n",
    "\n",
    "%Sample Size\n",
    "N = 50;\n",
    "\n",
    "%Number of simulations\n",
    "T = 1000;\n",
    "\n",
    "%True betas\n",
    "beta = [2,3,4]';\n",
    "K = size(beta,1);\n",
    "\n",
    "%Correlation parameters\n",
    "rho = [1,5,10,100];\n",
    "\n",
    "%Initialize the simulation results\n",
    "beta_sim = NaN(size(beta,1),T,size(rho,2));\n",
    "t_sim = NaN(size(beta,1),T,size(rho,2));\n",
    "F_sim = NaN(T,size(rho,2));\n",
    "\n",
    "%F-test R and r matrices (global sig of x_1,x_2)\n",
    "R = [0,1,0;0,0,1];\n",
    "r = [0;0];\n",
    "q = size(r,1);\n",
    "\n",
    "%Set the value of x_1 and the constant\n",
    "x_1 = rand(N,1);\n",
    "const = ones(N,1);"
   ]
  },
  {
   "cell_type": "code",
   "execution_count": 125,
   "metadata": {
    "collapsed": false
   },
   "outputs": [],
   "source": [
    "%Cell for the Monte-Carlo simulation\n",
    "\n",
    "parfor p=1:size(rho,2)\n",
    "\n",
    "    for t=1:T\n",
    "    \n",
    "        %generate the x_2\n",
    "        x_2 = rho(p)*x_1 + 2*randn(N,1);\n",
    "        \n",
    "        %generate the design matrix\n",
    "        X = [const x_1 x_2];\n",
    "        \n",
    "        %generate the Y vector from DGP equation\n",
    "        Y = X*beta + randn(N,1);\n",
    "        \n",
    "        %estimate the DGP process\n",
    "        beta_sim_1 = (X'*X)\\X'*Y;\n",
    "        beta_sim(:,t,p) = beta_sim_1;\n",
    "        \n",
    "        %generate the standard errors\n",
    "        sig2 = ((Y - X*beta_sim_1)'*(Y - X*beta_sim_1))/(N-K);\n",
    "        \n",
    "        SE = sqrt(diag(sig2*inv(X'*X)));\n",
    "        \n",
    "        %generate the t values:\n",
    "        t_sim(:,t,p)=beta_sim_1./SE;\n",
    "        \n",
    "        %generate the F values:\n",
    "        F_sim(t,p) = ((R*beta_sim_1-r)'*inv(sig2*R*inv(X'*X)*R')*(R*beta_sim_1-r))/q;\n",
    "    \n",
    "    end\n",
    "    \n",
    "end"
   ]
  },
  {
   "cell_type": "code",
   "execution_count": 126,
   "metadata": {
    "collapsed": false
   },
   "outputs": [],
   "source": [
    "% percent accept\n",
    "t_crit = tinv(1-0.05/2,N-K);\n",
    "F_crit = 3.19505628;\n",
    "\n",
    "Perc_accept_t = NaN(K,size(rho,2));\n",
    "Perc_accept_F = NaN(1,size(rho,2));\n",
    "\n",
    "for p=1:size(rho,2)\n",
    "\n",
    "    Perc_accept_t(:,p) = sum(abs(t_sim(:,:,p))<t_crit,2)/T *100;\n",
    "    Perc_accept_F(p) = sum(F_sim(:,p)<F_crit)/T*100;\n",
    "end"
   ]
  },
  {
   "cell_type": "code",
   "execution_count": 128,
   "metadata": {
    "collapsed": false
   },
   "outputs": [
    {
     "name": "stdout",
     "output_type": "stream",
     "text": [
      "Perc_accept_t =\n",
      "\n",
      "         0         0         0         0\n",
      "    0.3000    2.0000   13.2000   93.4000\n",
      "         0         0         0         0\n",
      "\n",
      "\n",
      "Perc_accept_F =\n",
      "\n",
      "     0     0     0     0\n",
      "\n",
      "\n",
      "mean_F =\n",
      "\n",
      "   1.0e+05 *\n",
      "\n",
      "    0.0175    0.0241    0.0434    2.3950\n"
     ]
    }
   ],
   "source": [
    "Perc_accept_t\n",
    "Perc_accept_F\n",
    "mean_F = mean(F_sim)"
   ]
  },
  {
   "cell_type": "markdown",
   "metadata": {},
   "source": [
    "As we see from the above, as the correlational coefficient $\\rho$ increases so as to create a larger correlation between $x_1$ and $x_2$, we see an increase in the percentage of times that we accept the null hypothesis of insignificance in the t-test for one of the correlated regresors (here, $x_1$). However, we jointly reject the null hypothesis of global insignificance in all runs because our F-stat increases in size as $\\rho$ increases. "
   ]
  },
  {
   "cell_type": "code",
   "execution_count": null,
   "metadata": {
    "collapsed": true
   },
   "outputs": [],
   "source": []
  }
 ],
 "metadata": {
  "kernelspec": {
   "display_name": "Matlab",
   "language": "matlab",
   "name": "matlab"
  },
  "language_info": {
   "codemirror_mode": "octave",
   "file_extension": ".m",
   "help_links": [
    {
     "text": "MetaKernel Magics",
     "url": "https://github.com/calysto/metakernel/blob/master/metakernel/magics/README.md"
    }
   ],
   "mimetype": "text/x-octave",
   "name": "matlab",
   "version": "0.11.0"
  }
 },
 "nbformat": 4,
 "nbformat_minor": 1
}
