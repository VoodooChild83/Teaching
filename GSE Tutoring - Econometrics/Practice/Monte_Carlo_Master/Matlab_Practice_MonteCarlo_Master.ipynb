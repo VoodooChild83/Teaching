{
 "cells": [
  {
   "cell_type": "markdown",
   "metadata": {
    "deletable": true,
    "editable": true
   },
   "source": [
    "# MonteCarlo Simulation\n",
    "\n",
    "In this module we will work on creating monte carlo simulations of various Data Generating Processes.\n",
    "\n",
    "To this end the module will be a skeleton of the exercises and you will fill in the code to finish the simulation."
   ]
  },
  {
   "cell_type": "code",
   "execution_count": 1,
   "metadata": {
    "collapsed": true,
    "deletable": true,
    "editable": true
   },
   "outputs": [],
   "source": [
    "clc; clear; clear all;"
   ]
  },
  {
   "cell_type": "markdown",
   "metadata": {
    "deletable": true,
    "editable": true
   },
   "source": [
    "## Part I: A Simple Monte Carlo - Study of Sample Size"
   ]
  },
  {
   "cell_type": "markdown",
   "metadata": {
    "deletable": true,
    "editable": true
   },
   "source": [
    "Here we will work on a simple example to fix ideas of what a MonteCarlo study is typically used for. \n",
    "\n",
    "For the exercise we will look at the effects of a sample size of 10, 100, 1000, and 10000. We will run the simulation 1000 times for each sample size (that is, within each loop we will run another loop to generate 1000 estimates of the beta parameters at the given sample size).\n",
    "\n",
    "You will create the DGP of a process, and then simulate the process. You will generate the estimate of the regressor and of its standard error, along with some graphs to illustrate that over varying sample sizes we observe\n",
    "\n",
    "\\begin{equation}\n",
    "\\text{p}\\lim_{n\\rightarrow \\infty} \\left(\\widehat{\\beta} - \\beta \\right) = 0\n",
    "\\end{equation}\n",
    "\n",
    "where $n$ is the sample size."
   ]
  },
  {
   "cell_type": "markdown",
   "metadata": {
    "deletable": true,
    "editable": true
   },
   "source": [
    "### Setting the random number generators to give the same values across runs\n",
    "\n",
    "Set the random number generator to give the default starting value so that runs become reproducible. Recall that computerized random number generators are really pseudo-random, as they are by design created to allow for reproducibility, and generally depend on some sort of initial state to start the random generating sequence (some initial states might be: computer temperature, time settings, other current states of the computer)."
   ]
  },
  {
   "cell_type": "code",
   "execution_count": 2,
   "metadata": {
    "collapsed": false,
    "deletable": true,
    "editable": true
   },
   "outputs": [],
   "source": [
    "rng('default')"
   ]
  },
  {
   "cell_type": "markdown",
   "metadata": {
    "deletable": true,
    "editable": true
   },
   "source": [
    "### Our data generating process\n",
    "\n",
    "Our initial data generating process will be simple. It will consist of just one regressor (independent variable). The DGP of our dependent variable $y$ is defined by the following:\n",
    "\n",
    "\\begin{align}\n",
    "y_{i} &= \\overbrace{15.5}^{\\beta_{0}} + \\overbrace{2.45}^{\\beta_{1}}\\cdot x_{1,i} + \\varepsilon_{i} \\\\\n",
    "x_{1,i} &\\sim \\text{i.i.d. } \\mathcal{U}(0,3)\\\\\n",
    "\\varepsilon_{i}&\\mid x_{1,i} \\sim \\text{i.i.d. }\\mathcal{N}(0,1)\n",
    "\\end{align}\n",
    "\n",
    "The above implies that the \"population\" parameters are\n",
    "\\begin{equation}\n",
    "\\beta = \n",
    "\\begin{bmatrix}\n",
    "15.5 \\\\\n",
    "2.45\n",
    "\\end{bmatrix}\n",
    "\\end{equation}\n"
   ]
  },
  {
   "cell_type": "markdown",
   "metadata": {
    "deletable": true,
    "editable": true
   },
   "source": [
    "### The monte-carlo simulation\n",
    "\n",
    "We will run this in a loop that does the MC simulation and collects the relevent data (our estimates of the parameters) into a pre-initialized array - Matlab and many other programming languages like and prefer that arrays are pre-allocated with some value, typically 0 or NaN (Not a Number), to set memory."
   ]
  },
  {
   "cell_type": "code",
   "execution_count": 3,
   "metadata": {
    "collapsed": false,
    "deletable": true,
    "editable": true
   },
   "outputs": [],
   "source": [
    "%This cell initializes the arrays and the parameters \n",
    "%of the simulation\n",
    "\n",
    "%Vector of sample sizes:\n",
    "N = [10;100;1000;10000];\n",
    "\n",
    "%Set iterator for simulator loop:\n",
    "T = 1000;\n",
    "\n",
    "%Initialize the vectors that will hold the data:\n",
    "beta_sim_0 = NaN(T,size(N,1)); % --> Creates a 1000x4 vector.\n",
    "beta_sim_1 = NaN(T,size(N,1));\n",
    "\n",
    "%Population betas:\n",
    "beta = [15.5;2.45];"
   ]
  },
  {
   "cell_type": "code",
   "execution_count": 4,
   "metadata": {
    "collapsed": false,
    "deletable": true,
    "editable": true
   },
   "outputs": [
    {
     "name": "stdout",
     "output_type": "stream",
     "text": [
      "Elapsed time is 1.046709 seconds.\n"
     ]
    }
   ],
   "source": [
    "%This cell programs the MonteCarlo\n",
    "\n",
    "%We will have two loops - a nested structure. The outer loop runs \n",
    "%through the vector N of sample sizes, grabs the value, creates \n",
    "%the data from the DGP that will be programmed, and then....\n",
    "%The second loop will conduct the 1000 iterations of estimating \n",
    "%the parameters and collect the resulting beta estimates into \n",
    "%the pre-allocated vectors.\n",
    "\n",
    "tic\n",
    "%outer loop runs through the vector of sample sizes\n",
    "for i=1:size(N,1)\n",
    "\n",
    "    %grab the sample size\n",
    "    sample_size = N(i);\n",
    "    \n",
    "    %Create the constant vector\n",
    "    constant = ones(sample_size,1);\n",
    "\n",
    "    %inner loop runs through the number of iterations we want to simulate\n",
    "    for j=1:T\n",
    "\n",
    "        %create the data from the DGP - the right-hand side of the \n",
    "        %above DGP equation\n",
    "        x = 3*rand(sample_size,1);\n",
    "\n",
    "        %concatinate to create the X data matrix:\n",
    "        X = [constant x];\n",
    "        \n",
    "        %create the vector of errors (epsilons)\n",
    "        epsilon = randn(sample_size,1);\n",
    "\n",
    "        %generate the Y vector of dependent variables:\n",
    "        Y = X*beta + epsilon;\n",
    "\n",
    "        %estimate the model by OLS\n",
    "        beta_sim = (X'*X)\\X'*Y;\n",
    "    \n",
    "        %put into the vectors holding the simulation results\n",
    "        beta_sim_0(j,i) = beta_sim(1);\n",
    "        beta_sim_1(j,i) = beta_sim(2);\n",
    "    \n",
    "    end\n",
    "\n",
    "end\n",
    "toc"
   ]
  },
  {
   "cell_type": "markdown",
   "metadata": {
    "deletable": true,
    "editable": true
   },
   "source": [
    "### From the MC results, generate the estimate of $\\widehat{\\beta}_{MC}$ and $\\widehat{SE}\\left(\\widehat{\\beta}_{MC}\\right)$\n",
    "\n",
    "Now we will generate the estimate of the betas from the monte-carlo simulation. To do this we notice that the simulation has generated a distribution. To obtain the estimate of the coefficient we simply take the average:\n",
    "\n",
    "\\begin{equation}\n",
    "\\widehat{\\beta}_{MC} = \\frac{1}{T}\\sum^{T}_{t=1} \\widehat{\\beta}_{t}\n",
    "\\end{equation}\n",
    "\n",
    "Similarly, to obtain the estimate of the standard error of the betas we take the standard deviation across the observations:\n",
    "\n",
    "\\begin{equation}\n",
    "\\widehat{SE}_{\\widehat{\\beta}_{MC}} = \\sqrt{\\frac{\\sum^{T}_{t=1}\\left(\\widehat{\\beta}_{t} - \\widehat{\\beta}_{MC}\\right)^{2}}{N-1}}\n",
    "\\end{equation}"
   ]
  },
  {
   "cell_type": "code",
   "execution_count": 5,
   "metadata": {
    "collapsed": false,
    "deletable": true,
    "editable": true
   },
   "outputs": [
    {
     "name": "stdout",
     "output_type": "stream",
     "text": [
      "beta_hat_MC =\n",
      "\n",
      "   15.5168   15.4947   15.5029   15.4996\n",
      "    2.4425    2.4559    2.4490    2.4501\n",
      "\n",
      "\n",
      "SE_MC =\n",
      "\n",
      "    0.6737    0.2070    0.0637    0.0202\n",
      "    0.3955    0.1175    0.0364    0.0116\n"
     ]
    }
   ],
   "source": [
    "%Calculate the estimate of the betas and the standard error \n",
    "%from the monte-carlo run. Place it into a matrix, recalling \n",
    "%that each column corresponds to the sample size from the \n",
    "%respective run.\n",
    "\n",
    "beta_hat_MC = [mean(beta_sim_0);mean(beta_sim_1)]\n",
    "\n",
    "SE_MC = [std(beta_sim_0);std(beta_sim_1)]"
   ]
  },
  {
   "cell_type": "markdown",
   "metadata": {
    "deletable": true,
    "editable": true
   },
   "source": [
    "The above results regarding the standard errors indicate that increasing sample sizes increase the precision of the estimate. To gain a better understanding how sample sizes might affect the estimation of the $\\beta$s we need to calculate the mean squared error (MSE):\n",
    "\n",
    "\\begin{equation}\n",
    "MSE(\\widehat{\\beta}_{MC,N}) = \\text{E}\\left(\\widehat{\\beta}_{MC,N}-\\beta \\right)^{2} = \\text{Var}(\\widehat{\\beta}_{MC,N}) + \\text{Bias}(\\widehat{\\beta}_{MC,N},\\beta)^{2}\n",
    "\\end{equation}"
   ]
  },
  {
   "cell_type": "code",
   "execution_count": 6,
   "metadata": {
    "collapsed": false,
    "deletable": true,
    "editable": true
   },
   "outputs": [
    {
     "name": "stdout",
     "output_type": "stream",
     "text": [
      "MSE_beta_0 =\n",
      "\n",
      "    0.4542    0.0429    0.0041    0.0004\n",
      "\n",
      "\n",
      "MSE_beta_1 =\n",
      "\n",
      "    0.1565    0.0138    0.0013    0.0001\n"
     ]
    }
   ],
   "source": [
    "%Calculate the MSE of the coefficients\n",
    "\n",
    "MSE_beta_0 = var(beta_sim_0) + (beta_hat_MC(1,:) - beta(1)).^2\n",
    "MSE_beta_1 = var(beta_sim_1) + (beta_hat_MC(2,:) - beta(2)).^2"
   ]
  },
  {
   "cell_type": "markdown",
   "metadata": {
    "deletable": true,
    "editable": true
   },
   "source": [
    "The above highlights that increasing the sample size decreases the error in the estimation of the parameter $\\beta$ (which represents a conditional mean), as evidenced by the decreasing values. We expect to get this result as the Law of Large Numbers tells us that as the size of a sample increases (and reaches infinity) the sample estimate $\\widehat{\\beta}$ converges to the population parameter $\\beta$. "
   ]
  },
  {
   "cell_type": "markdown",
   "metadata": {
    "deletable": true,
    "editable": true
   },
   "source": [
    "### Plot the histograms\n",
    "\n",
    "Here we will plot the histograms. Our beta of interest is that of $\\widehat{\\beta}_{1}$ (we don't really care about the constant). "
   ]
  },
  {
   "cell_type": "code",
   "execution_count": 7,
   "metadata": {
    "collapsed": false,
    "deletable": true,
    "editable": true
   },
   "outputs": [
    {
     "data": {
      "image/png": "[encoded data removed]",
      "text/plain": [
       "<IPython.core.display.Image object>"
      ]
     },
     "metadata": {},
     "output_type": "display_data"
    }
   ],
   "source": [
    "%Generate the histogram of the monte-carlo exercise\n",
    "\n",
    "%This code will generate the historgrams by creating subplots\n",
    "%to view all the distributions all in one display\n",
    "\n",
    "%First, let's set the bins (how the data is grouped)\n",
    "bins=30;\n",
    "\n",
    "%Second, let's find the global minimum and the maximum across \n",
    "%all the sameple sizes to set the same axis across all \n",
    "%the subplots beta_sim_1 to more easily compare how the dispersion\n",
    "%(shape of the bell curve) of the estimates change as N changes. \n",
    "%Since we have two dimensions we should use nested min and max \n",
    "%statements to get the global value.\n",
    "\n",
    "x_axis_min = min(min(beta_sim_1));\n",
    "x_axis_max = max(max(beta_sim_1));\n",
    "\n",
    "%Finally, we run through a loop across the columns of beta_sim_1\n",
    "%to generate a plot of the distribution of each column (so there \n",
    "%will be 4 subplots).\n",
    "\n",
    "for i=1:size(N,1)\n",
    "\n",
    "    subplot(2,2,i);\n",
    "    histogram(beta_sim_1(:,i),bins)\n",
    "    title(['T=1000 & N=' num2str(N(i))], 'FontSize',8)\n",
    "    xlabel('OLS estimates of \\beta_1','FontSize',8)\n",
    "    ylabel('Density estimate', 'FontSize',8)\n",
    "    xlim([x_axis_min x_axis_max])\n",
    "    \n",
    "end\n"
   ]
  },
  {
   "cell_type": "markdown",
   "metadata": {
    "deletable": true,
    "editable": true
   },
   "source": [
    "As we suspected from the results of calculating the standard error of $\\widehat{\\beta}$, as the sample size increases the dispersion of the distribution of estimated $\\widehat{\\beta}$ decreases - it TIGHTENS (the estimates become MORE precise)!!"
   ]
  },
  {
   "cell_type": "markdown",
   "metadata": {
    "deletable": true,
    "editable": true
   },
   "source": [
    "## Part II: Endogeneity through a Reduced Form Bias of a Confounding Variable"
   ]
  },
  {
   "cell_type": "markdown",
   "metadata": {
    "deletable": true,
    "editable": true
   },
   "source": [
    "Here we will adjust the DGP from above to include a covariate (regressor) that is correlated with our regressor $x_{1,i}$ and the dependant variable. However, the econometrician misspecifies the model, attempting to estimate the model in the previuos section that is now a \"reduced form\" version (either out of naïvety or because he is missing the new variable in his dataset, or doesn't understand the confounsing mechanism).\n",
    "\n",
    "In such cases we expect the Mean Squared Error (MSE) to be much larger than the previous values we have calculated - perhaps larger by several orders of magnitude. "
   ]
  },
  {
   "cell_type": "markdown",
   "metadata": {
    "deletable": true,
    "editable": true
   },
   "source": [
    "### Our data generating process\n",
    "\n",
    "Our new DGP will consist of two regressors (independent variable). The DGP of our dependent variable $y$ is defined by the following:\n",
    "\n",
    "\\begin{align}\n",
    "y_{i} &= \\overbrace{15.5}^{\\beta_{0}} + \\overbrace{2.45}^{\\beta_{1}}\\cdot x_{1,i} + \\overbrace{6}^{\\beta_{2}}\\cdot x_{2,i} + \\varepsilon_{i} \\\\\n",
    "x_{2,i} &= x_{1,i} + \\nu_{i} \\\\\n",
    "x_{1,i} &\\sim \\text{i.i.d. } \\mathcal{U}(0,3)\\\\\n",
    "\\nu_{i}&\\mid x_{1,i} \\sim \\text{i.i.d. }\\mathcal{N}(0,2) \\\\\n",
    "\\varepsilon_{i}&\\mid x_{1,i},x_{2,i} \\sim \\text{i.i.d. }\\mathcal{N}(0,1)\n",
    "\\end{align}\n",
    "\n",
    "The above implies that the \"population\" parameters are\n",
    "\\begin{equation}\n",
    "\\beta = \n",
    "\\begin{bmatrix}\n",
    "15.5 \\\\\n",
    "2.45 \\\\\n",
    "6\n",
    "\\end{bmatrix}\n",
    "\\end{equation}\n",
    "\n",
    "The econometrician, however, mistakenly estimates the following reduced-form model, where $\\beta_{1}$ will capture the information of $\\beta_{2}$:\n",
    "\n",
    "\\begin{equation}\n",
    "y_{i} = \\beta_{0} + \\beta_{1}\\cdot x_{1,i} + \\varepsilon_{i}\n",
    "\\end{equation}\n",
    "\n",
    "We will now study the effect of this mistake. We will use a sample size of 100, and once again we will run 1000 simulations."
   ]
  },
  {
   "cell_type": "code",
   "execution_count": 8,
   "metadata": {
    "collapsed": true,
    "deletable": true,
    "editable": true
   },
   "outputs": [],
   "source": [
    "%Set the parameters of the population and initialize arrays\n",
    "\n",
    "%Set the sample size:\n",
    "sample_size = 100;\n",
    "\n",
    "%Append to beta vector the new value for x_2:\n",
    "beta = [beta;6];\n",
    "\n",
    "%Initialize array (here we will store each beta in a column):\n",
    "%Recall T=1000, so dim of Vector ->1000 sims x 2 parameters \n",
    "beta_sim2 = NaN(T,2);  \n",
    "\n",
    "constant = ones(sample_size,1);"
   ]
  },
  {
   "cell_type": "code",
   "execution_count": 9,
   "metadata": {
    "collapsed": false,
    "deletable": true,
    "editable": true
   },
   "outputs": [
    {
     "name": "stdout",
     "output_type": "stream",
     "text": [
      "Elapsed time is 0.041638 seconds.\n"
     ]
    }
   ],
   "source": [
    "%The Monte-Carlo Cell\n",
    "\n",
    "%Here we have only one loop since we are only doing this with\n",
    "%one sample size.\n",
    "\n",
    "tic\n",
    "for i=1:T\n",
    "\n",
    "    %program the regressors\n",
    "    %x_1:\n",
    "    x_1 = 3*rand(sample_size,1);\n",
    "    %error term nu and x_2:\n",
    "    nu = 2*randn(sample_size,1);\n",
    "    x_2 = x_1 + nu;\n",
    "    \n",
    "    %create the data matrix for the dgp:\n",
    "    X_dgp=[constant x_1 x_2];\n",
    "    \n",
    "    %generate the epsilon errors for Y:\n",
    "    epsilon = randn(sample_size,1);\n",
    "    \n",
    "    %generate the dependent variable Y:\n",
    "    Y = X_dgp*beta + epsilon;\n",
    "    \n",
    "    %estimate the incorrect model: \n",
    "    % y = beta_0 + beta_1*x_1 + epsilon\n",
    "    \n",
    "    X_err = X_dgp(:,1:2);\n",
    "    \n",
    "    %recall that (X'X)X'Y -> dim Kx1 for betas\n",
    "    %But beta_sim2 is dim TxK => each row is\n",
    "    %dim 1xK. So we take the transpose of (X'X)X'Y\n",
    "    %to place this into beta_sim2\n",
    "    beta_sim2(i,:) = ((X_err'*X_err)\\X_err'*Y)';\n",
    "\n",
    "end\n",
    "toc"
   ]
  },
  {
   "cell_type": "markdown",
   "metadata": {
    "deletable": true,
    "editable": true
   },
   "source": [
    "### Calculate the estimate of the coefficient parameter vector $\\widehat{\\beta}_{MC,2}$, the standard error $\\widehat{SE}\\left(\\widehat{\\beta}_{MC,2}\\right)$, and the MSE \n",
    "\n",
    "Same as before, but this time we just take the mean of the array, since we have the two coefficients as each column, the mean will return a $1\\times2$ vector where each column is the estimated coefficient (same for the and the standard error)."
   ]
  },
  {
   "cell_type": "code",
   "execution_count": 10,
   "metadata": {
    "collapsed": false,
    "deletable": true,
    "editable": true
   },
   "outputs": [
    {
     "name": "stdout",
     "output_type": "stream",
     "text": [
      "beta_hat_MC2 =\n",
      "\n",
      "   15.4833    8.4388\n",
      "\n",
      "\n",
      "SE_MC2 =\n",
      "\n",
      "    2.5150    1.4961\n"
     ]
    }
   ],
   "source": [
    "beta_hat_MC2 = mean(beta_sim2)\n",
    "SE_MC2 = std(beta_sim2)"
   ]
  },
  {
   "cell_type": "markdown",
   "metadata": {
    "deletable": true,
    "editable": true
   },
   "source": [
    "The above shows that $\\widehat{\\beta}_{1}$ is very different from population $\\beta_{1}=2.45$. We can calculate the MSE and then conduct a statistical test to see if $\\widehat{\\beta}_{MC,2}$=$\\beta_{2}$."
   ]
  },
  {
   "cell_type": "code",
   "execution_count": 11,
   "metadata": {
    "collapsed": false,
    "deletable": true,
    "editable": true
   },
   "outputs": [
    {
     "name": "stdout",
     "output_type": "stream",
     "text": [
      "MSE_beta_1 =\n",
      "\n",
      "    2.2384\n"
     ]
    }
   ],
   "source": [
    "%Calculate the MSE of the estimate of the parameter beta_1:\n",
    "\n",
    "MSE_beta_1 = var(beta_sim2(:,2)) + (beta_hat_MC(2) - beta(2)).^2"
   ]
  },
  {
   "cell_type": "markdown",
   "metadata": {
    "deletable": true,
    "editable": true
   },
   "source": [
    "Recall that the Mean Squared Error of $\\widehat{\\beta}_{1}$ in part one for a sample size N=100 was $\\approx0.013$. This MSE is now over $100$ times larger and we no longer have that $\\text{E}\\left(\\widehat{\\beta}_{1}\\right)=\\beta_{1}$.\n",
    "\n",
    "So is our new estimate of $\\widehat{\\beta}_{MC,2}=8.44$ statistically equivalent to our population parameter of $\\beta=2.45$ at a 95% confidence level, i.e. $\\alpha=0.05$? We can conduct the following test:\n",
    "\n",
    "\\begin{equation}\n",
    "\\text{H}_{0}:\\quad \\widehat{\\beta}_{1}=\\beta_{1} \\quad\\quad\\quad \\text{H}_{a}:\\quad \\widehat{\\beta}_{1}\\neq\\beta_{1}\n",
    "\\end{equation}\n",
    "\n",
    "To do this we conduct a 2-sided t-test. We will ask matlab to give us the t-statistic for a distribution that we assume follows ours, and calculate the t value for our data to compare.\n",
    "\n",
    "Since we will call upon this routine more than once, let's create a function to accomplish this test. It will take in as input the estimated parameter value, the value under the null hypothesis, the parameter standard error, the $\\alpha$ of the test, and the sample size; it will send as an output a string regarding the result of the test, and the t values."
   ]
  },
  {
   "cell_type": "code",
   "execution_count": 12,
   "metadata": {
    "collapsed": false,
    "deletable": true,
    "editable": true
   },
   "outputs": [
    {
     "name": "stdout",
     "output_type": "stream",
     "text": [
      "result_MC2 =\n",
      "\n",
      "Reject the null in favor of alternative: parameters not equal\n",
      "\n",
      "\n",
      "t_value_MC2 =\n",
      "\n",
      "    4.0029\n",
      "\n",
      "\n",
      "t_stat =\n",
      "\n",
      "    1.9842\n"
     ]
    }
   ],
   "source": [
    "% The function takes on the form \n",
    "%[result,t_value,t_stat] = Sig_Test(beta_hat,beta_null,SE,alpha,SS)\n",
    "\n",
    "%we can pick what we want to keep from the output. For example,\n",
    "%if we only care about the result (whether the test was passed) we\n",
    "%can keep just the output. Otherwise, we can keep all the values.\n",
    "\n",
    "[result_MC2,t_value_MC2,t_stat] = Sig_Test(beta_hat_MC2(2),beta(2),...\n",
    "                                           SE_MC2(2),0.05,sample_size)"
   ]
  },
  {
   "cell_type": "markdown",
   "metadata": {
    "collapsed": true,
    "deletable": true,
    "editable": true
   },
   "source": [
    "The estimated parameter for $\\widehat{\\beta}_{1}\\neq \\beta_{1}$ according to our test."
   ]
  },
  {
   "cell_type": "markdown",
   "metadata": {
    "deletable": true,
    "editable": true
   },
   "source": [
    "### Plot the results from previous monte-carlo exercise (MC1) where sample size N=100, $\\widehat{\\beta}_{1,MC1}$,  with the current monte-carlo (MC2) misestimated $\\widehat{\\beta}_{1,MC2}$ in the same plot"
   ]
  },
  {
   "cell_type": "code",
   "execution_count": 13,
   "metadata": {
    "collapsed": false,
    "deletable": true,
    "editable": true
   },
   "outputs": [
    {
     "data": {
      "image/png": "[encoded data removed]",
      "text/plain": [
       "<IPython.core.display.Image object>"
      ]
     },
     "metadata": {},
     "output_type": "display_data"
    }
   ],
   "source": [
    "%Plot the histograms in the same graph\n",
    "\n",
    "%generate a histogram object for the distribution from the \n",
    "%first part of the assignment -> recall that beta_sim_1(:,2)\n",
    "%are the 1000 estimates of beta_1 where the sample size N=100\n",
    "%(corresponding to column 2 of the array). Recall that bins=30\n",
    "%was already set above so we don't have to redefine it.\n",
    "[n,x_2_MC1] = hist(beta_sim_1(:,2),bins);\n",
    "\n",
    "%generate the histogram object of this MC run, recalling that\n",
    "%column 2 of beta_sim2 contains the 1000 estimates of beta_1.\n",
    "[n2,x_2_MC2] = hist(beta_sim2(:,2),bins);\n",
    "\n",
    "%call the bar graph on the first MC run. We will use the 'hold on' \n",
    "%command to tell matlab that we will be adding stuff to the graph, \n",
    "%in this case we will add the second histogram object as a second\n",
    "%bar chart, but adding it to our plot as an object 'h' so that\n",
    "%we can manipulate its color and such.\n",
    "bar(x_2_MC1,n,'hist')\n",
    "hold on; h=bar(x_2_MC2,n2,'hist'); hold off\n",
    "set(h,'facecolor','c')\n",
    "\n",
    "%set other plot elements:\n",
    "title('T=1000 & N=100 for \\beta_{1} across MC1 and MC2', 'FontSize',8)\n",
    "xlabel('OLS estimates of \\beta_1','FontSize',8)\n",
    "ylabel('Density estimate', 'FontSize',8)\n",
    "legend({'\\beta_{1,MC1}','\\beta_{1,MC2}'})"
   ]
  },
  {
   "cell_type": "markdown",
   "metadata": {
    "deletable": true,
    "editable": true
   },
   "source": [
    "Notice how the two distributions, if they intersect, is barely perceptible. It is precisely for this reason that the previous hypothesis test rejected that the center of these distributions (the estimate of the respective $\\widehat{\\beta}_{1}$s) are statistically equivalent: the distributions do not overlap such that they are within either one of their critical regions."
   ]
  },
  {
   "cell_type": "markdown",
   "metadata": {
    "deletable": true,
    "editable": true
   },
   "source": [
    "## Part III: Direct Endogeneity of the Regressor (Introduction to 2SLS estimation - Instrumental Variables Regression)\n",
    "\n",
    "In this exercies we will adjust the endogeneity problem so that instead of the regressor being endogenous to $\\varepsilon$ through an ommited variable, it will be directly endogenous to the error term (perhaps, for example, becuase this variable has a selection bias).\n",
    "\n",
    "As in the previous case, we cannot expect that any estimation of the parameter vector $\\widehat{\\beta}$ is un-biased. In the previous section it so happened that the bias of the ommited variable with which the regressor was itself correlated led to what we call an 'upward' bias (the estimated parameter of interest was larger than the true, population parameter because it was capturing a reduced-form relationship). In the case that follows we will see that the misspecification resulting from incorrectly assuming that the regressor is exogenous to the error term means that it will be 'downward' biased (the estimated parameter is smaller than the true value).\n",
    "\n",
    "As we will see, what this means is that the following is now true (a bias results):\n",
    "\n",
    "\\begin{equation}\n",
    "\\text{p}\\lim_{n\\rightarrow \\infty} \\left(\\widehat{\\beta} - \\beta \\right) \\neq 0 \\quad\\Rightarrow\\quad \\text{E}\\left(\\widehat{\\beta}-\\beta \\right)\\neq 0\n",
    "\\end{equation}\n",
    "\n",
    "precisely because the following is the case $\\text{E}\\left(x_{1,i}\\cdot \\varepsilon_{i}\\right)\\neq0$, a violation of the exogeneity assumption of the linear model."
   ]
  },
  {
   "cell_type": "markdown",
   "metadata": {
    "deletable": true,
    "editable": true
   },
   "source": [
    "### Our data generating process\n",
    "\n",
    "Our new DGP will consist of just the one regressor. The DGP of our dependent variable $y$ is defined by the following:\n",
    "\n",
    "\\begin{align}\n",
    "y_{i} &= \\overbrace{15.5}^{\\beta_{0}} + \\overbrace{2.45}^{\\beta_{1}}\\cdot x_{1,i} + \\varepsilon_{i} \\\\\n",
    "x_{1,i} &\\sim \\text{i.i.d. } \\mathcal{U}(0,3)\\\\\n",
    "\\varepsilon_{i}\\mid x_{1,i},x_{2,i} &\\sim \\text{i.i.d. }\\mathcal{N}(0,1)\n",
    "\\end{align}\n",
    "\n",
    "Our \"population\" parameters are thus given by:\n",
    "\\begin{equation}\n",
    "\\beta = \n",
    "\\begin{bmatrix}\n",
    "15.5 \\\\\n",
    "2.45\n",
    "\\end{bmatrix}\n",
    "\\end{equation}\n",
    "\n",
    "The econometrician, however, naïvely estimates the following model:\n",
    "\n",
    "\\begin{align}\n",
    "y_{i} &= \\beta_{0,endog} + \\beta_{1,endog}\\cdot x_{1,i}^{endog} + \\varepsilon_{i} \\\\\n",
    "x_{1,i}^{endog}&= x_{1,i} + \\varepsilon_{i}\n",
    "\\end{align}\n",
    "\n",
    "believing that $x_{1,i}=x_{1,i}^{endog}$ (thus he is unaware of the second process generating the endogeneity, assuming that $\\text{E}\\left(x_{1,i}^{endog}\\cdot\\varepsilon_{i}\\right)=0$, which is not true). The estimates of this model we will call $\\widehat{\\beta}_{endog}$. \n",
    "\n",
    "\n",
    "Later, the econometrician realizes his mistaken assumption and \"discovers\" a new variable, $x_{3}$, that satsifies the two conditions to qualify it as an instrument: \n",
    "\n",
    "\\begin{align}\n",
    "\\text{E}\\left(x_{1,i}\\cdot x_{3,i}\\right)&\\neq0\\quad\\text{correlated to regressor} \\\\\n",
    "\\text{E}\\left(x_{3,i}\\cdot \\varepsilon_{i}\\right)&=0\\quad \\text{uncorrelated to error}\n",
    "\\end{align}\n",
    "\n",
    "He then implements the famous 2 Stage Least Squares regression on his naïve model to obtain an estimator of the parameters.\n",
    "\n",
    "\n",
    "We will now study the effect of such a mistake and the correction, using a sample size of 100 and once again running 1000 simulations. To create the instrument, we define it as a random variable correlated with the regressor $x_{1,i}$ in the above DGP:\n",
    "\n",
    "\\begin{align}\n",
    "x_{3,i} &= \\rho\\cdot x_{1,i} + \\nu \\\\\n",
    "\\nu &\\sim\\text{i.i.d. } \\mathcal{N}(0,1)\n",
    "\\end{align}\n",
    "$\\rho$ controls the \"strength\" of the instrument relative to the regressor $x_{1,i}$ (the higher $\\rho$ is, the better it is in \"breaking\" the endogeneity). We will start with a $\\rho=1$, and later you can play with this value to see how this affects the results.\n",
    "\n",
    "### The 2-Stage Least Squares regressor\n",
    "\n",
    "To accomplish the instrumental regression of the above misestimated model we conduct a 2-step regression (you will learn that this can be done much more efficiently later, but the 2-step approach makes it more clear):\n",
    "\n",
    "1. Step 1: Regress the instrument on the regressor. We first estimate the following model to find the $\\gamma$s: $\n",
    "x_{1,i} = \\gamma_{0} + \\gamma_{1}\\cdot x_{3,i} + \\zeta_{i}$, where $\\zeta_{i}$ is i.i.d. $\\mathcal{N}(0,1)$\n",
    "2. Next we find the vector of predicted values of $x_{1}$, $\\widehat{x}_{1} = X_{step1}\\cdot\\gamma$.\n",
    "3. Step 2: Regress the predicted value $\\widehat{x}_{1,i}$ on $y$ in the above model instead of the regressor $x_{1,i}$ to generate the estimates that we will call $\\widehat{\\beta}_{IV}$: $y_{i} = \\beta_{0,IV} + \\beta_{1,IV}\\cdot \\widehat{x}_{1,i} + \\varepsilon_{i}$"
   ]
  },
  {
   "cell_type": "code",
   "execution_count": 14,
   "metadata": {
    "collapsed": true,
    "deletable": true,
    "editable": true
   },
   "outputs": [],
   "source": [
    "%Reset beta and initialize arrays (we keep other \n",
    "%variables as they are)\n",
    "\n",
    "%Reset beta vector to original problem:\n",
    "beta = beta(1:2);\n",
    "\n",
    "%Initialize array (here we will store each beta in a column):\n",
    "%Recall T=1000, so dim of Vector -> 1000 sims x 2 parameters \n",
    "beta_endog = NaN(T,2); \n",
    "beta_IV = NaN(T,2);"
   ]
  },
  {
   "cell_type": "code",
   "execution_count": 21,
   "metadata": {
    "collapsed": false,
    "deletable": true,
    "editable": true
   },
   "outputs": [],
   "source": [
    "%Cell that runs the monte-carlo experiment\n",
    "\n",
    "for i=1:T\n",
    "    \n",
    "    %generate the epsilon errors for Y and endog:\n",
    "    epsilon = randn(sample_size,1);\n",
    "\n",
    "    %create the true regressor:\n",
    "    x_1 = 3*rand(sample_size,1);\n",
    "    %and the endogenous regressor\n",
    "    x_1_endog = x_1 + epsilon;\n",
    "    \n",
    "    %create the instrument:\n",
    "    nu = randn(sample_size,1);\n",
    "    rho = 1;\n",
    "    x_3 = rho.*x_1 + nu;\n",
    "\n",
    "    %create the data matrix for the dgp:\n",
    "    X_dgp=[constant x_1];\n",
    "\n",
    "    %generate the dependent variable Y:\n",
    "    Y = X_dgp*beta + epsilon;\n",
    "\n",
    "    %estimate the biased model: \n",
    "    % y = beta_0 + beta_1*x_1_endog + epsilon\n",
    "\n",
    "    X_bias = [constant x_1_endog];\n",
    "\n",
    "    %recall that (X'X)X'Y -> dim Kx1 for betas\n",
    "    %But beta_misest is dim TxK => each row is\n",
    "    %dim 1xK, corresponding to one run of the simulation. \n",
    "    %So we take the transpose of (X'X)X'Y\n",
    "    %to place this into beta_misest\n",
    "    beta_endog(i,:) = ((X_bias'*X_bias)\\X_bias'*Y)';\n",
    "\n",
    "    %2 - Stage Least Sqares regression\n",
    "\n",
    "    %step 1: \n",
    "    %estimate the regression \n",
    "    %x_1 = gamma_0 + gamma_1 x_3 + zeta\n",
    "\n",
    "    X_1step=[constant x_3];\n",
    "\n",
    "    gamma = (X_1step'*X_1step)\\X_1step'*x_1;\n",
    "\n",
    "    %create the predicted values of x_1, x_1_hat:\n",
    "    x_1_hat = X_1step*gamma;\n",
    "\n",
    "    %step 2\n",
    "    %use this predicted value of x_1_hat in the model\n",
    "\n",
    "    X_2step=[constant x_1_hat];\n",
    "\n",
    "    %estimate the betas:\n",
    "\n",
    "    beta_IV(i,:) = ((X_2step'*X_2step)\\X_2step'*Y)';\n",
    "\n",
    "end"
   ]
  },
  {
   "cell_type": "markdown",
   "metadata": {
    "deletable": true,
    "editable": true
   },
   "source": [
    "We can now look at the estimated results of the simulation and see what we obtain for $\\widehat{\\beta}_{endog}$ and $\\widehat{\\beta}_{IV}$. We will also conduct the test of significance to see if our regressor of interest differs from the population parameter."
   ]
  },
  {
   "cell_type": "code",
   "execution_count": 16,
   "metadata": {
    "collapsed": false,
    "deletable": true,
    "editable": true
   },
   "outputs": [
    {
     "name": "stdout",
     "output_type": "stream",
     "text": [
      "beta_hat_endog =\n",
      "\n",
      "   16.7439    1.6231\n",
      "\n",
      "\n",
      "SE_endog =\n",
      "\n",
      "    0.1371    0.0642\n",
      "\n",
      "\n",
      "beta_hat_IV =\n",
      "\n",
      "   15.5010    2.4482\n",
      "\n",
      "\n",
      "SE_IV =\n",
      "\n",
      "    0.2859    0.1745\n"
     ]
    }
   ],
   "source": [
    "beta_hat_endog = mean(beta_endog)\n",
    "SE_endog = std(beta_endog)\n",
    "beta_hat_IV = mean(beta_IV)\n",
    "SE_IV = std(beta_IV)"
   ]
  },
  {
   "cell_type": "markdown",
   "metadata": {
    "deletable": true,
    "editable": true
   },
   "source": [
    "As we can see, naïvely regressing an endogenous variable on the dependent variable generates a downward bias (in this case) when estimating the parameter of interst. However, using a variable that is exogenous to the error in the model but correlated to the endogenous regressor allows us to consistently estimate the parameter values. \n",
    "\n",
    "As you will learn, there is some loss in efficiency (in the estimation of the variance-covariance matrix and the standard error) when doing IV regressions. Here the standard error is slightly larger than the standard error in part one for the simulation of the true parameter variables when $N=100$. \n",
    "\n",
    "We will conduct the tests using the function that was created earlier to test the following:\n",
    "\n",
    "\\begin{align}\n",
    "\\text{H}_{0}:\\quad \\widehat{\\beta}_{endog,1}=\\beta_{1} \\quad\\quad\\quad \\text{H}_{a}:&\\quad \\widehat{\\beta}_{endog,1}\\neq\\beta_{1} \\\\ \n",
    "\\text{H}_{0}:\\quad \\widehat{\\beta}_{IV,1}=\\beta_{1}\\quad\\quad\\quad \\text{H}_{a}:&\\quad \\widehat{\\beta}_{IV,1}\\neq\\beta_{1}\n",
    "\\end{align}"
   ]
  },
  {
   "cell_type": "code",
   "execution_count": 17,
   "metadata": {
    "collapsed": false,
    "deletable": true,
    "editable": true
   },
   "outputs": [
    {
     "name": "stdout",
     "output_type": "stream",
     "text": [
      "result_endog =\n",
      "\n",
      "Reject the null in favor of alternative: parameters not equal\n",
      "\n",
      "\n",
      "t_value_endog =\n",
      "\n",
      "  -12.8851\n",
      "\n",
      "\n",
      "result_IV =\n",
      "\n",
      "Fail to reject the null in favor of alternative: parameters statistically equal\n",
      "\n",
      "\n",
      "t_value_IV =\n",
      "\n",
      "   -0.0103\n"
     ]
    }
   ],
   "source": [
    "%calculate the t-statistic for our test:\n",
    "\n",
    "%first test:\n",
    "[result_endog,t_value_endog] = Sig_Test(beta_hat_endog(2),...\n",
    "                               beta(2),SE_endog(2),0.05,sample_size)\n",
    "[result_IV,t_value_IV] = Sig_Test(beta_hat_IV(2),beta(2),...\n",
    "                               SE_IV(2),0.05,sample_size)"
   ]
  },
  {
   "cell_type": "markdown",
   "metadata": {
    "deletable": true,
    "editable": true
   },
   "source": [
    "The results indicate that the endogenous regressor is statisitically different from the true value at the 95% confidence level; while we failed to reject the null hypothesis that the IV estimator is different.\n",
    "\n",
    "We can plot the results of the monte-carlo exercise to visualize the results. Here we will graph three histograms: \n",
    "1. using the results of $\\widehat{\\beta}_{1}$ from part 1 with $N=100$ as the distribution of our \"true\" population value of $\\beta_{1}$;\n",
    "2. the histrgrams of $\\widehat{\\beta}_{endog,1}$ and $\\widehat{\\beta}_{IV,1}$ for the results from this section\n",
    "\n",
    "When graphing these, we have to be careful in what order we tell Matlab to graph them. Because the standard error of $\\widehat{\\beta}_{IV,1}$ is greater than that of $\\widehat{\\beta}_{1}$ from part 1, the variance is larger and so it is more widely dispersed. So we should tell Matlab to plot the IV estimates before we plot the estimates that make up the \"true\" distribution (the $\\widehat{\\beta}_{1}$ from part 1); otherwise the distribution of $\\widehat{\\beta}_{IV,1}$ will \"block\" from our view the results of the \"true\" distribution from part 1. "
   ]
  },
  {
   "cell_type": "code",
   "execution_count": 22,
   "metadata": {
    "collapsed": false,
    "deletable": true,
    "editable": true
   },
   "outputs": [
    {
     "data": {
      "image/png": "[encoded data removed]",
      "text/plain": [
       "<IPython.core.display.Image object>"
      ]
     },
     "metadata": {},
     "output_type": "display_data"
    }
   ],
   "source": [
    "\n",
    "%generate a histogram object for the distribution from the \n",
    "%first part of the assignment -> recall that beta_sim_1(:,2)\n",
    "%are the 1000 estimates of beta_1 where the sample size N=100\n",
    "%(corresponding to column 2 of the array). Recall that bins=30\n",
    "%was already set above so we don't have to redefine it.\n",
    "[n,x_1_true] = hist(beta_sim_1(:,2),bins);\n",
    "\n",
    "%generate the histogram object of this MC run, recalling that\n",
    "%column 2 of beta_endog and beta_IV contains the 1000 estimates \n",
    "%of our parameter of interest, beta_1.\n",
    "[n2,x_1_endog] = hist(beta_endog(:,2),bins);\n",
    "\n",
    "[n3,x_1_IV] = hist(beta_IV(:,2),bins);\n",
    "\n",
    "%call the bar graph on the first MC run. We will use the 'hold on' \n",
    "%command to tell matlab that we will be adding stuff to the graph, \n",
    "%in this case we will add the second and third histogram objects \n",
    "%as a second and third bar chart, but adding it to our plot as an \n",
    "%object 'h' so that we can manipulate its color and other things\n",
    "%as needed.\n",
    "bar(x_1_endog,n2,'hist')\n",
    "hold on; h=bar(x_1_IV,n3,'hist'); hold off\n",
    "set(h,'facecolor','r') \n",
    "hold on; h2=bar(x_1_true,n,'hist'); hold off\n",
    "set(h2,'facecolor','c') \n",
    "\n",
    "%set other plot elements:\n",
    "title('T=1000 & N=100 for Instrumental Estimation of \\beta_1',...\n",
    "      'FontSize',8)\n",
    "xlabel('OLS and IV estimates of \\beta_1','FontSize',8)\n",
    "ylabel('Density estimate', 'FontSize',8)\n",
    "\n",
    "%for the legend, we will need to resize it. So we call upon its\n",
    "%objects to manipulate them -> we want to adjust font size\n",
    "[hleg1, hobj1] = legend({'\\beta_{1,endog}','\\beta_{1,IV}',...\n",
    "                '\\beta_{1,true}'},'Location','southoutside',...\n",
    "                'Orientation','horizontal');\n",
    "textobj = findobj(hobj1, 'type', 'text');\n",
    "set(textobj,'fontsize', 8);"
   ]
  },
  {
   "cell_type": "markdown",
   "metadata": {
    "collapsed": true,
    "deletable": true,
    "editable": true
   },
   "source": [
    "The chart above displays the results: the \"true\" distribution lies ontop of the estimated results from the IV monte-carlo experiment (as we would expect given the results of our t-test indicates that the mean values of $\\widehat{\\beta}_{IV,1}$ and $\\widehat{\\beta}_{1}$ are statistically equivalent); however, the IV estimates are more dispersed (greater variance) than the \"true\" population. \n",
    "\n",
    "Play around with the parameter $\\rho$ above and/or the definition of the distribution of the error term associated with the instrument to see how this affects the distribution of the IV parameters in the monte-carlo experiment (the estimation of the parameter will be consistent, but the variance of the distribution and the standard errors, etc. ?)."
   ]
  },
  {
   "cell_type": "code",
   "execution_count": null,
   "metadata": {
    "collapsed": true,
    "deletable": true,
    "editable": true
   },
   "outputs": [],
   "source": []
  }
 ],
 "metadata": {
  "kernelspec": {
   "display_name": "Matlab",
   "language": "matlab",
   "name": "matlab"
  },
  "language_info": {
   "codemirror_mode": "octave",
   "file_extension": ".m",
   "help_links": [
    {
     "text": "MetaKernel Magics",
     "url": "https://github.com/calysto/metakernel/blob/master/metakernel/magics/README.md"
    }
   ],
   "mimetype": "text/x-octave",
   "name": "matlab",
   "version": "0.11.0"
  }
 },
 "nbformat": 4,
 "nbformat_minor": 1
}
