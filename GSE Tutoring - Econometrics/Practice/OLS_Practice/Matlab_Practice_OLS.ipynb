{
 "cells": [
  {
   "cell_type": "code",
   "execution_count": 3,
   "metadata": {
    "collapsed": true
   },
   "outputs": [],
   "source": [
    "%Import the data\n",
    "%file name is a string variable, includes extension\n",
    "\n",
    "fname = 'Data1.xlsx';\n",
    "Data = xlsread(fname);"
   ]
  },
  {
   "cell_type": "code",
   "execution_count": 4,
   "metadata": {
    "collapsed": false
   },
   "outputs": [
    {
     "name": "stdout",
     "output_type": "stream",
     "text": [
      "rho =\n",
      "\n",
      "    1.0000    0.1328    0.4144\n",
      "    0.1328    1.0000    0.0494\n",
      "    0.4144    0.0494    1.0000\n"
     ]
    }
   ],
   "source": [
    "%Find the correlations between columns to determine in this\n",
    "%toy dataset which column.\n",
    "%From excel worksheet will be he Y variable and which the \n",
    "%X variables.\n",
    "%Output reads like the following:\n",
    "%          col 1  col 2  col 3\n",
    "%   col 1| 1.0   0.1328  0.4144\n",
    "%   col 2|0.1328   1.0   0.0494\n",
    "%   col 3|0.4144 0.0494    1.0\n",
    "\n",
    "rho = corr(Data)"
   ]
  },
  {
   "cell_type": "code",
   "execution_count": 5,
   "metadata": {
    "collapsed": false
   },
   "outputs": [],
   "source": [
    "%Generate X and Y variables\n",
    "\n",
    "%Data in the form of Data(:,1), where ':' is the place \n",
    "%holder for rows for Data(row,column).\n",
    "%Data is an NxM dataset with N rows (our observations),\n",
    "%and M columns.\n",
    "\n",
    "%Number of data points:\n",
    "%size function: size(Vector or Matrix, axis)\n",
    "%axis=1 --> rows, axis=2 -->column\n",
    "N=size(Data,1);\n",
    "\n",
    "%Y variable: take the first column, M=1, and all rows\n",
    "Y=Data(:,1);\n",
    "\n",
    "%Create the X matrix\n",
    "\n",
    "%First: \n",
    "%We need to create the vector of constants. \n",
    "%Use 'ones()' function: ones(size of first dim, size of \n",
    "%second dim, size of thid dim,..).\n",
    "%For a 2-dimensional matrix, first argument is the row \n",
    "%dimension, second argument is the column dimension \n",
    "%(if it were a 3D matrix, third dimension is the 'height').\n",
    "%Here we create an Nx1 vector\n",
    "\n",
    "Constant = ones(N,1);\n",
    "\n",
    "%Second:\n",
    "%We can now concatinate: Our constant vector, and the two \n",
    "%other columns from the dataset.\n",
    "%Data(:,2:end) --> grab all rows (:), and starting from \n",
    "%column 2 grab everything until the end.\n",
    "%This creates an NxK matrix\n",
    "\n",
    "X = [Constant Data(:,2:end)];\n",
    "\n",
    "%Third: \n",
    "%For future, let's grab the number of regressors (call \n",
    "%it K:\n",
    "\n",
    "K = size(X,2);"
   ]
  },
  {
   "cell_type": "markdown",
   "metadata": {},
   "source": [
    "## The Linear Model We Will Estimate:\n",
    "\n",
    "Here the model we will estimate is the following, abstracting from whatever interpretation we want to give to each regressor $x_{k}$.\n",
    "\n",
    "The basic model is:\n",
    "\n",
    "\\begin{equation}\n",
    "y_{i} = \\beta_{0} + \\beta_{1}x_{1,i} + \\beta_{2}x_{2,i} + \\varepsilon_{i}\n",
    "\\end{equation}\n",
    "\n",
    "or in matrix algebra (when we have the N systems of equations):\n",
    "\n",
    "\\begin{equation}\n",
    "\\underbrace{Y}_{N\\times 1} = \\underbrace{\\underbrace{X}_{N\\times 3}\\cdot\\underbrace{\\beta}_{3\\times 1}}_{N\\times 1} + \\underbrace{\\varepsilon}_{N\\times 1}\n",
    "\\end{equation}\n",
    "\n",
    "Recall that the solution to the least squares minimization problem\n",
    "is:\n",
    "\n",
    "\\begin{equation}\n",
    "\\underbrace{\\widehat{\\beta}}_{3\\times 1} = \\underbrace{[\\underbrace{\\underbrace{X'}_{3\\times N}\\cdot\\underbrace{X}_{N\\times 3}}_{3\\times 3}]^{-1}\\cdot\\underbrace{\\underbrace{X'}_{3\\times N}\\cdot\\underbrace{Y}_{N\\times 1}}_{3\\times 1}}_{3\\times 1}\n",
    "\\end{equation}\n",
    "\n",
    "where $\\widehat{\\beta}$ is our estimator of $\\beta$."
   ]
  },
  {
   "cell_type": "code",
   "execution_count": 11,
   "metadata": {
    "collapsed": false
   },
   "outputs": [
    {
     "name": "stdout",
     "output_type": "stream",
     "text": [
      "B =\n",
      "\n",
      "   16.3029\n",
      "    0.0272\n",
      "    0.7408\n"
     ]
    }
   ],
   "source": [
    "%Estimate the betas of a linear regression \n",
    "%Here we use the '\\' operator, the inverse matrix division, in\n",
    "%place of the 'inv()' function\n",
    "\n",
    "B = (X'*X)\\(X'*Y)"
   ]
  },
  {
   "cell_type": "markdown",
   "metadata": {},
   "source": [
    "Now we want to generate the estimate of the $\\varepsilon$, which is\n",
    "$\\widehat{\\varepsilon}$.\n",
    "\n",
    "Using our estimate $\\widehat{\\beta}$ from the above equation we can solve for $\\widehat{\\varepsilon}$:\n",
    "\n",
    "\\begin{equation}\n",
    "\\widehat{\\varepsilon} = Y - X\\cdot\\widehat{\\beta}\n",
    "\\end{equation}"
   ]
  },
  {
   "cell_type": "code",
   "execution_count": 8,
   "metadata": {
    "collapsed": true
   },
   "outputs": [],
   "source": [
    "%generate the estimated error\n",
    "eps = Y - X*B;"
   ]
  },
  {
   "cell_type": "markdown",
   "metadata": {},
   "source": [
    "To generate the goodness of fit, we first need to generate \n",
    "the following:\n",
    "\n",
    "Predicted y, $\\hat{y}$, is given by \n",
    "\\begin{equation}\n",
    "\\hat{y} = X\\cdot\\widehat{\\beta}\n",
    "\\end{equation}\n",
    "\n",
    "The mean of our observations of y:\n",
    "\\begin{equation}\n",
    "\\bar{y} = \\frac{1}{N}\\sum^{N}_{i=1}y_{i}\n",
    "\\end{equation}\n",
    "\n",
    "The sum of squared regressions (SSR):\n",
    "\\begin{equation}\n",
    "SSR = \\sum^{N}_{i=1}(\\hat{y}_{i} - \\bar{y})^{2}\n",
    "\\end{equation}\n",
    "\n",
    "The sum of squared errors (SSE):\n",
    "\\begin{equation}\n",
    "SSE = \\sum^{N}_{i=1}(\\widehat{\\varepsilon}_{i}\\cdot \\widehat{\\varepsilon}_{i})\n",
    "\\end{equation}\n",
    "\n",
    "And the sum of squared total (SST):\n",
    "\\begin{equation}\n",
    "SST = \\sum^{N}_{i=1}(y_{i} - \\bar{y})^{2}\n",
    "\\end{equation}"
   ]
  },
  {
   "cell_type": "code",
   "execution_count": 10,
   "metadata": {
    "collapsed": false
   },
   "outputs": [
    {
     "name": "stdout",
     "output_type": "stream",
     "text": [
      "y_bar =\n",
      "\n",
      "   20.4099\n",
      "\n",
      "\n",
      "SSR =\n",
      "\n",
      "  971.2347\n",
      "\n",
      "\n",
      "SSE =\n",
      "\n",
      "   4.2958e+03\n",
      "\n",
      "\n",
      "SST =\n",
      "\n",
      "   5.2670e+03\n"
     ]
    }
   ],
   "source": [
    "%generate goodness of fit:\n",
    "y_bar = mean(Y)\n",
    "y_hat = X*B;\n",
    "SSR = sum((y_hat-y_bar).^2)\n",
    "SSE = sum(eps.^2)\n",
    "SST = sum((Y-y_bar).^2)"
   ]
  },
  {
   "cell_type": "markdown",
   "metadata": {},
   "source": [
    "The formulas for the centered (c) goodness of fit:\n",
    "\n",
    "\\begin{equation}\n",
    "R^{2}_{c,1} = 1 - \\frac{SSE}{SST}\n",
    "\\end{equation}\n",
    "\n",
    "and\n",
    "\n",
    "\\begin{equation}\n",
    "R^{2}_{c,2} = \\frac{SSR}{SST}\n",
    "\\end{equation}\n",
    "\n",
    "These two are equivalent (when we have a constant in the model), because...\n",
    "\n",
    "\\begin{align}\n",
    "SST &= SSE+SSR \\Rightarrow SST-SSE=SSR \\\\\n",
    "\\\\\n",
    "R^{2}_{c,1} &= 1 - \\frac{SSE}{SST} = \\frac{SST-SSE}{SST}= \\frac{SSR}{SST} = R^{2}_{c,2}\n",
    "\\end{align}\n",
    "\n",
    "and the adjusted $R^{2}$ (which allows us to compare the goodness of fit between\n",
    "two models estimated from the same data) is:\n",
    "\n",
    "\\begin{equation}\n",
    "\\overline{R}^{2} = 1-\\frac{\\frac{SSE}{(N-K)}}{\\frac{SST}{(N-1)}}\n",
    "\\end{equation}"
   ]
  },
  {
   "cell_type": "code",
   "execution_count": 24,
   "metadata": {
    "collapsed": false
   },
   "outputs": [
    {
     "name": "stdout",
     "output_type": "stream",
     "text": [
      "R_1 =\n",
      "\n",
      "    0.1844\n",
      "\n",
      "\n",
      "R_2 =\n",
      "\n",
      "    0.1844\n",
      "\n",
      "\n",
      "R_bar =\n",
      "\n",
      "    0.1761\n"
     ]
    }
   ],
   "source": [
    "%Goodness of fit:\n",
    "R_1 = 1-(SSE/SST)\n",
    "R_2 = SSR/SST\n",
    "\n",
    "%adjusted measure\n",
    "R_bar = 1 - (SSE/(N-K))/(SST/(N-1))"
   ]
  },
  {
   "cell_type": "markdown",
   "metadata": {},
   "source": [
    "The formula to calculate the estimated variance of the model is given by\n",
    "\n",
    "\\begin{equation}\n",
    "\\widehat{\\sigma}^{2} = \\frac{SSE}{(N-K)} = \\frac{1}{(N-K)}\\underbrace{\\widehat{\\varepsilon}'}_{1\\times N}\\cdot\\underbrace{\\widehat{\\varepsilon}}_{N\\times 1}\n",
    "\\end{equation}\n",
    "\n",
    "where the last equality is the same operation as SSE above in matrix algebra."
   ]
  },
  {
   "cell_type": "code",
   "execution_count": 14,
   "metadata": {
    "collapsed": false
   },
   "outputs": [
    {
     "name": "stdout",
     "output_type": "stream",
     "text": [
      "var_hat =\n",
      "\n",
      "   21.8060\n"
     ]
    }
   ],
   "source": [
    "%generate the estimated variance\n",
    "var_hat = SSE/(N-K)"
   ]
  },
  {
   "cell_type": "markdown",
   "metadata": {},
   "source": [
    "We can test that we have the desired outcome:\n",
    "\\begin{equation}\n",
    "\\text{E} (\\underbrace{\\underbrace{X'}_{3\\times N}\\cdot\\underbrace{\\widehat{\\varepsilon}}_{N\\times 1}}_{3\\times 1})=\\underbrace{0}_{3\\times 1}\n",
    "\\end{equation}"
   ]
  },
  {
   "cell_type": "code",
   "execution_count": 15,
   "metadata": {
    "collapsed": false
   },
   "outputs": [
    {
     "name": "stdout",
     "output_type": "stream",
     "text": [
      "X_eps =\n",
      "\n",
      "   1.0e-10 *\n",
      "\n",
      "   -0.0027\n",
      "   -0.0659\n",
      "   -0.1192\n",
      "\n",
      "\n",
      "E =\n",
      "\n",
      "  -6.2634e-12\n"
     ]
    }
   ],
   "source": [
    "X_eps=X'*eps %dimX: 200x3 dim_eps:200x1 X_eps=3x200 * 200x1\n",
    "E=mean(X_eps)"
   ]
  },
  {
   "cell_type": "markdown",
   "metadata": {},
   "source": [
    "To obtain the variance-covariance matrix, we need:\n",
    "\n",
    "\\begin{equation}\n",
    "\\underbrace{\\widehat{V}}_{3\\times 3} = \\underbrace{\\widehat{\\sigma}^{2}}_{scalar}[\\underbrace{\\underbrace{X'}_{3\\times N}\\cdot\\underbrace{X}_{N\\times 3}}_{3\\times3}]^{-1}\n",
    "\\end{equation}"
   ]
  },
  {
   "cell_type": "code",
   "execution_count": 17,
   "metadata": {
    "collapsed": false
   },
   "outputs": [
    {
     "name": "stdout",
     "output_type": "stream",
     "text": [
      "Var_Cov =\n",
      "\n",
      "    0.4881   -0.0022   -0.0690\n",
      "   -0.0022    0.0002   -0.0001\n",
      "   -0.0690   -0.0001    0.0136\n"
     ]
    }
   ],
   "source": [
    "%Var-Covar matrix\n",
    "Var_Cov = var_hat*inv(X'*X) %dim X'X: 3x200*200*3=3x3"
   ]
  },
  {
   "cell_type": "markdown",
   "metadata": {},
   "source": [
    "We need the above diagonals, which are the variances of each $\\widehat{\\beta}_{k}$.\n",
    "\n",
    "Recall that the formula for the standard error is given by:\n",
    "\n",
    "\\begin{equation}\n",
    "SE_{\\widehat{\\beta}_{k}} = \\sqrt{\\frac{\\hat{\\sigma}^{2}}{\\underbrace{\\underbrace{X_{k}'}_{1\\times N}\\cdot \\underbrace{X_{k}}_{N\\times1}}_{1\\times1}}}\n",
    "\\end{equation}\n",
    "\n",
    "We use the diag() function in matlab to get this directly."
   ]
  },
  {
   "cell_type": "code",
   "execution_count": 19,
   "metadata": {
    "collapsed": false,
    "scrolled": true
   },
   "outputs": [
    {
     "name": "stdout",
     "output_type": "stream",
     "text": [
      "SE_B =\n",
      "\n",
      "    0.6986\n",
      "    0.0155\n",
      "    0.1167\n"
     ]
    }
   ],
   "source": [
    "%Standard errors of the betas\n",
    "SE_B = sqrt(diag(Var_Cov))"
   ]
  },
  {
   "cell_type": "markdown",
   "metadata": {},
   "source": [
    "For the t-statistic we do the following, recall that the formula under the null:\n",
    "\\begin{equation}\n",
    "H_{O}:\\quad\\widehat{\\beta}_{0,k}=0\n",
    "\\end{equation}\n",
    "\n",
    "is the following:\n",
    "\\begin{equation}\n",
    "t_{\\widehat{\\beta}_{k}} = \\frac{\\widehat{\\beta}_{k}-\\widehat{\\beta}_{0,k}}{SE_{\\widehat{\\beta}_{k}}}\n",
    "\\end{equation}"
   ]
  },
  {
   "cell_type": "code",
   "execution_count": 20,
   "metadata": {
    "collapsed": false
   },
   "outputs": [
    {
     "name": "stdout",
     "output_type": "stream",
     "text": [
      "t =\n",
      "\n",
      "   23.3356\n",
      "    1.7473\n",
      "    6.3468\n"
     ]
    }
   ],
   "source": [
    "%t-statistic for inference testing:\n",
    "%in matrix algebra with MATLAB we can do this with \n",
    "%the './' operator (element-by-element division)\n",
    "%Divide element 1 of B by element 1 of SE_B, and so on\n",
    "t = B./SE_B"
   ]
  },
  {
   "cell_type": "markdown",
   "metadata": {},
   "source": [
    "For confidence interval, we will need to find the t-statistic of the model (different) from the above t statistic.\n",
    "\n",
    "We will do a two sided t-interval at an $\\alpha=0.05$ confidence means that wee need the $t_{\\alpha=0.025}$ and $t_{\\alpha=0.975}$\n",
    "\n",
    "Recall that a confidence interval is given by:\n",
    "\n",
    "\\begin{equation}\n",
    "\\left[\\widehat{\\beta}_{k} - t_{\\alpha=\\frac{0.05}{2}}\\cdot SE_{\\widehat{\\beta}_{k}}\\quad,\\quad\\widehat{\\beta}_{k} + t_{\\alpha=\\frac{0.05}{2}}\\cdot SE_{\\widehat{\\beta}_{k}} \\right]\n",
    "\\end{equation}"
   ]
  },
  {
   "cell_type": "code",
   "execution_count": 32,
   "metadata": {
    "collapsed": false
   },
   "outputs": [
    {
     "name": "stdout",
     "output_type": "stream",
     "text": [
      "ts =\n",
      "\n",
      "   -1.9720    1.9720\n",
      "\n",
      "\n",
      "Conf_Int =\n",
      "\n",
      "   14.9252   16.3029   17.6806\n",
      "   -0.0035    0.0272    0.0578\n",
      "    0.5106    0.7408    0.9710\n"
     ]
    }
   ],
   "source": [
    "%Generate a matrix with the confidence intervals\n",
    "\n",
    "%first, grab the two-sided t test statistic for the data\n",
    "ts = tinv([0.025  0.975], N-1)\n",
    "\n",
    "%calculate the confidence intervals (concatinate vector math): \n",
    "% Conf_Inv = [Lower Interval, Beta Estimate, Upper Interval]\n",
    "Conf_Int = [B+ts(1).*SE_B, B, B+ts(2).*SE_B ]"
   ]
  },
  {
   "cell_type": "markdown",
   "metadata": {},
   "source": [
    "For the F-Statistic of global significance, we need to define the restricted model:\n",
    "\n",
    "\\begin{equation}\n",
    "H_{O}:\\quad \\widehat{\\beta}_{k=2}=\\widehat{\\beta}_{k=3} =0\n",
    "\\end{equation}\n",
    "\n",
    "To test this we need to define the $q\\times K$ matrix R that defines the restrictions:\n",
    "\n",
    "\\begin{equation}\n",
    "R\\cdot \\widehat{\\beta}=r\n",
    "\\end{equation}\n",
    "\n",
    "Since our null hypothesis posits that $\\widehat{\\beta}_{k=2}$ and $\\widehat{\\beta}_{k=3}$ are equal to 0, we need to define the matrix that gives us $q=2$ rows, one for each restriction:\n",
    "\n",
    "\\begin{equation}\n",
    "R=\n",
    "\\begin{bmatrix}\n",
    "0&1&0\\\\\n",
    "0&0&1\n",
    "\\end{bmatrix}\n",
    "\\end{equation}\n",
    "\n",
    "and the r matrix of what we are testing (that they equal 0):\n",
    "\n",
    "\\begin{equation}\n",
    "r=\n",
    "\\begin{bmatrix}\n",
    "0\\\\\n",
    "0\n",
    "\\end{bmatrix}\n",
    "\\end{equation}\n",
    "\n",
    "So our linear restrictions are:\n",
    "\n",
    "\\begin{equation}\n",
    "\\underbrace{\n",
    "\\underbrace{\n",
    "\\begin{bmatrix}\n",
    "0&1&0\\\\\n",
    "0&0&1\n",
    "\\end{bmatrix}}_{2\\times3}\n",
    "\\cdot\n",
    "\\underbrace{\n",
    "\\begin{bmatrix}\n",
    "\\widehat{\\beta}_{k=1}\\\\\n",
    "\\widehat{\\beta}_{k=2}\\\\\n",
    "\\widehat{\\beta}_{k=3}\n",
    "\\end{bmatrix}}_{3\\times1}\n",
    "}_{2\\times1}\n",
    "=\n",
    "\\underbrace{\n",
    "\\begin{bmatrix}\n",
    "0\\\\\n",
    "0\n",
    "\\end{bmatrix}}_{2\\times1}\n",
    "\\end{equation}\n"
   ]
  },
  {
   "cell_type": "code",
   "execution_count": 22,
   "metadata": {
    "collapsed": true
   },
   "outputs": [],
   "source": [
    "%A simultaneous (global) test of significance:\n",
    "%whether B_2=B_3=0 (basically, the constant only model is the restricted model)\n",
    "\n",
    "%Define the linear restrictions equations:\n",
    "R=[0,1,0;0,0,1];\n",
    "r=[0;0];\n",
    "%define rest = RB - r\n",
    "rest = R*B - r;\n",
    "%number of restrictions: row dim of R\n",
    "q=size(R,1);"
   ]
  },
  {
   "cell_type": "markdown",
   "metadata": {},
   "source": [
    "Recall that the formula for the F-Statistic is given by (do the algebra to see that the dimensions work):\n",
    "\n",
    "\\begin{equation}\n",
    "F = \\frac{\\left(R\\cdot\\widehat{\\beta} - r\\right)'\\left[\\widehat{\\sigma}^{2}\\cdot R \\cdot \\left(X'\\cdot X \\right)^{-1}\\cdot R' \\right]^{-1}\\left(R\\cdot\\widehat{\\beta} - r\\right)}{q} \\sim F\\left(q,N-K\\right)\n",
    "\\end{equation}"
   ]
  },
  {
   "cell_type": "code",
   "execution_count": 23,
   "metadata": {
    "collapsed": false
   },
   "outputs": [
    {
     "name": "stdout",
     "output_type": "stream",
     "text": [
      "F =\n",
      "\n",
      "   22.2699\n"
     ]
    }
   ],
   "source": [
    "%F-statistic calculation:\n",
    "F = ( rest'/(var_hat*R/(X'*X)*R')*rest )/q"
   ]
  },
  {
   "cell_type": "markdown",
   "metadata": {},
   "source": [
    "We can use the matlab 'regress()' function to obtain the same results we have done to check our math.\n",
    "\n",
    "To do so, we place in the matrices Y and X, as shown below.\n",
    "\n",
    "As output, we can get several arguments. We only care about the coefficients, $\\widehat{\\beta}$, the confidence intervals, and the statistics.\n",
    "\n",
    "The statistics that matlab outputs are in the following ourder:\n",
    "$R^{2}$, F-stastic, p-value, and model variance $\\widehat{\\sigma}^{2}$."
   ]
  },
  {
   "cell_type": "code",
   "execution_count": 28,
   "metadata": {
    "collapsed": false
   },
   "outputs": [
    {
     "name": "stdout",
     "output_type": "stream",
     "text": [
      "B =\n",
      "\n",
      "   16.3029\n",
      "    0.0272\n",
      "    0.7408\n",
      "\n",
      "\n",
      "BINT =\n",
      "\n",
      "   14.9251   17.6806\n",
      "   -0.0035    0.0578\n",
      "    0.5106    0.9710\n",
      "\n",
      "\n",
      "STATS =\n",
      "\n",
      "    0.1844   22.2699    0.0000   21.8060\n"
     ]
    }
   ],
   "source": [
    "%Check that our math is correct:\n",
    "[Beta,CONF_INT,~,~,STATS] = regress(Y,X)"
   ]
  }
 ],
 "metadata": {
  "kernelspec": {
   "display_name": "Matlab",
   "language": "matlab",
   "name": "matlab"
  },
  "language_info": {
   "codemirror_mode": "octave",
   "file_extension": ".m",
   "help_links": [
    {
     "text": "MetaKernel Magics",
     "url": "https://github.com/calysto/metakernel/blob/master/metakernel/magics/README.md"
    }
   ],
   "mimetype": "text/x-octave",
   "name": "matlab",
   "version": "0.11.0"
  }
 },
 "nbformat": 4,
 "nbformat_minor": 1
}
