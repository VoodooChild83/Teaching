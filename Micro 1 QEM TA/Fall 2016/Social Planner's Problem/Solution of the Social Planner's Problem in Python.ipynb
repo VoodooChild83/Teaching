{
 "cells": [
  {
   "cell_type": "code",
   "execution_count": 1,
   "metadata": {
    "collapsed": true
   },
   "outputs": [],
   "source": [
    "from sympy import *\n",
    "from fractions import Fraction as frac\n",
    "from IPython.display import display as ds\n",
    "\n",
    "init_printing(use_latex='mathjax')"
   ]
  },
  {
   "cell_type": "markdown",
   "metadata": {},
   "source": [
    "# Optimal PO Allocation of Available Goods Across Consumers\n",
    "\n",
    "Suppose you are a central planner with perfect information. Instead of each agent possesing an initial set of endowments you take all the resources of the economy. Your goal is to conduct the redistribution such that you maximize the utility of one of the agents subject to a required level of utility of the other agents. Because you are not subject to a budget constraint there are no prices; you are only subject to feasibility in the economy, which here are the total goods that the agents have given you.\n",
    "\n",
    "We will adapt Problem 1 and 3 of P.S. 5 for this problem where we maximize Agent 1's utility subject to maintaining Agent 2's utility at a given level, $\\bar{u}_{2}$. This is a \"normative\" solution as we make a statement about what an agent's utility SHOULD be (here agent 2's) to determine allocations; contrast this with the \"positive\" solution, where we let markets determine allocations and allow agents to maximize their own utilities. \n",
    "\n",
    "The problem is the following\n",
    "\n",
    "\\begin{align*}\n",
    "\\max_{x}\\quad &\\left(x_{11}\\right)^{\\frac{1}{3}}\\left(x_{12}\\right)^{\\frac{2}{3}} \\\\\n",
    "&\\text{s.t.}\\quad \\left(x_{21}\\right)^{\\frac{1}{2}}\\left(x_{22}\\right)^{\\frac{1}{2}}\\geq \\bar{u}_{2}\\\\\n",
    "&\\quad \\quad \\sum_{i}{x_{1,i}}\\leq3\\\\\n",
    "&\\quad \\quad \\sum_{i}{x_{2,i}}\\leq3\n",
    "\\end{align*}\n",
    "\n",
    "Since we know that feasibility must be attained and this constraint set is strictly convex, we can set these constraints with equality since we know we will have an interior solution and that it will be unique (that is, we satisfy the necessary and sufficient conditions of a quasi-concave objective function and a convex constraint set)."
   ]
  },
  {
   "cell_type": "code",
   "execution_count": 2,
   "metadata": {
    "collapsed": false
   },
   "outputs": [],
   "source": [
    "x12,x11,x21,x22,u2,lam = (\n",
    "    symbols('x_{12} x_{11} x_{21} x_{22} u_{2} \\lambda'))"
   ]
  },
  {
   "cell_type": "markdown",
   "metadata": {},
   "source": [
    "Agent 1's utility:"
   ]
  },
  {
   "cell_type": "code",
   "execution_count": 3,
   "metadata": {
    "collapsed": false
   },
   "outputs": [
    {
     "data": {
      "text/latex": [
       "$$\\sqrt[3]{x_{11}} x_{12}^{\\frac{2}{3}}$$"
      ],
      "text/plain": [
       "3 ________       2/3\n",
       "╲╱ x_{11} ⋅x_{12}   "
      ]
     },
     "metadata": {},
     "output_type": "display_data"
    }
   ],
   "source": [
    "u_1 = (x11)**frac('1/3')*(x12)**frac('2/3')\n",
    "ds(u_1)"
   ]
  },
  {
   "cell_type": "markdown",
   "metadata": {},
   "source": [
    "Agent 2's utility as the contraint:"
   ]
  },
  {
   "cell_type": "code",
   "execution_count": 4,
   "metadata": {
    "collapsed": false
   },
   "outputs": [
    {
     "data": {
      "text/latex": [
       "$$- u_{2} + \\sqrt{- x_{11} + 3} \\sqrt{- x_{12} + 3}$$"
      ],
      "text/plain": [
       "           _____________   _____________\n",
       "-u_{2} + ╲╱ -x_{11} + 3 ⋅╲╱ -x_{12} + 3 "
      ]
     },
     "metadata": {},
     "output_type": "display_data"
    }
   ],
   "source": [
    "u_2 = (3-x11)**frac('1/2')*(3-x12)**frac('1/2') -u2\n",
    "ds(u_2)"
   ]
  },
  {
   "cell_type": "markdown",
   "metadata": {},
   "source": [
    "Define the Lagrangian"
   ]
  },
  {
   "cell_type": "code",
   "execution_count": 5,
   "metadata": {
    "collapsed": false
   },
   "outputs": [
    {
     "data": {
      "text/latex": [
       "$$\\lambda \\left(- u_{2} + \\sqrt{- x_{11} + 3} \\sqrt{- x_{12} + 3}\\right) + \\sqrt[3]{x_{11}} x_{12}^{\\frac{2}{3}}$$"
      ],
      "text/plain": [
       "        ⎛           _____________   _____________⎞   3 ________       2/3\n",
       "\\lambda⋅⎝-u_{2} + ╲╱ -x_{11} + 3 ⋅╲╱ -x_{12} + 3 ⎠ + ╲╱ x_{11} ⋅x_{12}   "
      ]
     },
     "metadata": {},
     "output_type": "display_data"
    }
   ],
   "source": [
    "L = u_1 + lam*(u_2)\n",
    "ds(L)"
   ]
  },
  {
   "cell_type": "markdown",
   "metadata": {},
   "source": [
    "Calculate $\\frac{\\partial \\mathcal{L}}{\\partial x_{11}}$"
   ]
  },
  {
   "cell_type": "code",
   "execution_count": 6,
   "metadata": {
    "collapsed": false
   },
   "outputs": [
    {
     "data": {
      "text/latex": [
       "$$- \\frac{\\lambda \\sqrt{- x_{12} + 3}}{2 \\sqrt{- x_{11} + 3}} + \\frac{x_{12}^{\\frac{2}{3}}}{3 x_{11}^{\\frac{2}{3}}}$$"
      ],
      "text/plain": [
       "            _____________          2/3 \n",
       "  \\lambda⋅╲╱ -x_{12} + 3     x_{12}    \n",
       "- ─────────────────────── + ───────────\n",
       "         _____________              2/3\n",
       "     2⋅╲╱ -x_{11} + 3       3⋅x_{11}   "
      ]
     },
     "metadata": {},
     "output_type": "display_data"
    }
   ],
   "source": [
    "dLdx11 = diff(L,x11)\n",
    "ds(dLdx11)"
   ]
  },
  {
   "cell_type": "markdown",
   "metadata": {},
   "source": [
    "Calculate $\\frac{\\partial \\mathcal{L}}{\\partial x_{12}}$"
   ]
  },
  {
   "cell_type": "code",
   "execution_count": 7,
   "metadata": {
    "collapsed": false
   },
   "outputs": [
    {
     "data": {
      "text/latex": [
       "$$- \\frac{\\lambda \\sqrt{- x_{11} + 3}}{2 \\sqrt{- x_{12} + 3}} + \\frac{2 \\sqrt[3]{x_{11}}}{3 \\sqrt[3]{x_{12}}}$$"
      ],
      "text/plain": [
       "            _____________     3 ________\n",
       "  \\lambda⋅╲╱ -x_{11} + 3    2⋅╲╱ x_{11} \n",
       "- ─────────────────────── + ────────────\n",
       "         _____________        3 ________\n",
       "     2⋅╲╱ -x_{12} + 3       3⋅╲╱ x_{12} "
      ]
     },
     "metadata": {},
     "output_type": "display_data"
    }
   ],
   "source": [
    "dLdx12 = diff(L,x12)\n",
    "ds(dLdx12)"
   ]
  },
  {
   "cell_type": "markdown",
   "metadata": {},
   "source": [
    "Solve for $\\lambda$ in both equations to generate the MRS in SymPy"
   ]
  },
  {
   "cell_type": "code",
   "execution_count": 8,
   "metadata": {
    "collapsed": false
   },
   "outputs": [
    {
     "data": {
      "text/latex": [
       "$$\\frac{2 x_{12}^{\\frac{2}{3}} \\sqrt{- x_{11} + 3}}{3 x_{11}^{\\frac{2}{3}} \\sqrt{- x_{12} + 3}}$$"
      ],
      "text/plain": [
       "        2/3   _____________\n",
       "2⋅x_{12}   ⋅╲╱ -x_{11} + 3 \n",
       "───────────────────────────\n",
       "        2/3   _____________\n",
       "3⋅x_{11}   ⋅╲╱ -x_{12} + 3 "
      ]
     },
     "metadata": {},
     "output_type": "display_data"
    },
    {
     "data": {
      "text/latex": [
       "$$\\frac{4 \\sqrt[3]{x_{11}} \\sqrt{- x_{12} + 3}}{3 \\sqrt[3]{x_{12}} \\sqrt{- x_{11} + 3}}$$"
      ],
      "text/plain": [
       "  3 ________   _____________\n",
       "4⋅╲╱ x_{11} ⋅╲╱ -x_{12} + 3 \n",
       "────────────────────────────\n",
       "  3 ________   _____________\n",
       "3⋅╲╱ x_{12} ⋅╲╱ -x_{11} + 3 "
      ]
     },
     "metadata": {},
     "output_type": "display_data"
    }
   ],
   "source": [
    "lam1 = solve(dLdx11,lam)[0]\n",
    "lam2 = solve(dLdx12,lam)[0]\n",
    "ds(lam1,lam2)"
   ]
  },
  {
   "cell_type": "markdown",
   "metadata": {},
   "source": [
    "So we have:\n",
    "\n",
    "\\begin{align*}\n",
    "\\lambda &= \\frac{2 x_{12}^{\\frac{2}{3}} \\sqrt{- x_{11} + 3}}{3 x_{11}^{\\frac{2}{3}} \\sqrt{- x_{12} + 3}}\\\\\n",
    "\\lambda &= \\frac{4 \\sqrt[3]{x_{11}} \\sqrt{- x_{12} + 3}}{3 \\sqrt[3]{x_{12}} \\sqrt{- x_{11} + 3}}\n",
    "\\end{align*}\n",
    "\n",
    "Take the ratios and we get this equation\n",
    "\n",
    "\\begin{equation*}\n",
    "0= 1 - \\frac{\\frac{2 x_{12}^{\\frac{2}{3}} \\sqrt{- x_{11} + 3}}{3 x_{11}^{\\frac{2}{3}} \\sqrt{- x_{12} + 3}}}{\\frac{4 \\sqrt[3]{x_{11}} \\sqrt{- x_{12} + 3}}{3 \\sqrt[3]{x_{12}} \\sqrt{- x_{11} + 3}}}\n",
    "\\end{equation*}\n",
    "\n",
    "We can then solve for both $x_{11}^{*}$ and $x_{12}^{*}$ in terms of the other in SymPy"
   ]
  },
  {
   "cell_type": "code",
   "execution_count": 9,
   "metadata": {
    "collapsed": false
   },
   "outputs": [
    {
     "data": {
      "text/latex": [
       "$$- \\frac{3 x_{12}}{x_{12} - 6}$$"
      ],
      "text/plain": [
       "-3⋅x_{12} \n",
       "──────────\n",
       "x_{12} - 6"
      ]
     },
     "metadata": {},
     "output_type": "display_data"
    },
    {
     "data": {
      "text/latex": [
       "$$\\frac{6 x_{11}}{x_{11} + 3}$$"
      ],
      "text/plain": [
       " 6⋅x_{11} \n",
       "──────────\n",
       "x_{11} + 3"
      ]
     },
     "metadata": {},
     "output_type": "display_data"
    }
   ],
   "source": [
    "x11_star = solve((lam1/lam2)-1,x11)[0]\n",
    "x12_star = solve((lam1/lam2)-1,x12)[0]\n",
    "ds(x11_star,x12_star)"
   ]
  },
  {
   "cell_type": "markdown",
   "metadata": {},
   "source": [
    "So we have that\n",
    "\n",
    "\\begin{align*}\n",
    "x_{11}^{*} &= \\frac{3 x_{12}^{*}}{6-x_{12}^{*}} \\\\\n",
    "x_{12}^{*} &= \\frac{6 x_{11}^{*}}{x_{11}^{*} + 3}\n",
    "\\end{align*}\n",
    "\n",
    "Now we can place them back into our constraint to then solve for the values in terms of Agent 2's base utility $\\bar{u}_{2}$."
   ]
  },
  {
   "cell_type": "code",
   "execution_count": 10,
   "metadata": {
    "collapsed": false
   },
   "outputs": [
    {
     "data": {
      "text/latex": [
       "$$- u_{2} + \\sqrt{- x_{12} + 3} \\sqrt{\\frac{3 x_{12}}{x_{12} - 6} + 3}$$"
      ],
      "text/plain": [
       "                             ________________\n",
       "           _____________    ╱  3⋅x_{12}      \n",
       "-u_{2} + ╲╱ -x_{12} + 3 ⋅  ╱  ────────── + 3 \n",
       "                         ╲╱   x_{12} - 6     "
      ]
     },
     "metadata": {},
     "output_type": "display_data"
    },
    {
     "data": {
      "text/latex": [
       "$$- u_{2} + \\sqrt{- x_{11} + 3} \\sqrt{- \\frac{6 x_{11}}{x_{11} + 3} + 3}$$"
      ],
      "text/plain": [
       "                             __________________\n",
       "           _____________    ╱    6⋅x_{11}      \n",
       "-u_{2} + ╲╱ -x_{11} + 3 ⋅  ╱  - ────────── + 3 \n",
       "                         ╲╱     x_{11} + 3     "
      ]
     },
     "metadata": {},
     "output_type": "display_data"
    }
   ],
   "source": [
    "at_x12 = u_2.subs(x11,x11_star)\n",
    "at_x11 = u_2.subs(x12,x12_star)\n",
    "ds(at_x12,at_x11)"
   ]
  },
  {
   "cell_type": "markdown",
   "metadata": {},
   "source": [
    "So we get \n",
    "\\begin{align*}\n",
    "\\bar{u}_{2} &= \\sqrt{- x_{12} + 3} \\sqrt{\\frac{3 x_{12}}{x_{12} - 6} + 3} \\\\\n",
    "\\bar{u}_{2} &= \\sqrt{- x_{11} + 3} \\sqrt{- \\frac{6 x_{11}}{x_{11} + 3} + 3}\n",
    "\\end{align*}\n",
    "\n",
    "We will obtain two possible solutions when we solve for $x_{12}$ and $x_{11}$. So we need to find which one is the correct solution (that is, which one is the one that satisfies that $\\bar{u}_{2}\\in[0,3]$)."
   ]
  },
  {
   "cell_type": "markdown",
   "metadata": {},
   "source": [
    "Solutions for $x_{12}^{*}$ (in order)"
   ]
  },
  {
   "cell_type": "code",
   "execution_count": 11,
   "metadata": {
    "collapsed": false
   },
   "outputs": [
    {
     "data": {
      "text/latex": [
       "$$- \\frac{u_{2}^{2}}{12} - \\frac{u_{2}}{12} \\sqrt{u_{2}^{2} + 72} + 3$$"
      ],
      "text/plain": [
       "                    _____________    \n",
       "       2           ╱      2          \n",
       "  u_{2}    u_{2}⋅╲╱  u_{2}  + 72     \n",
       "- ────── - ────────────────────── + 3\n",
       "    12               12              "
      ]
     },
     "metadata": {},
     "output_type": "display_data"
    },
    {
     "data": {
      "text/latex": [
       "$$- \\frac{u_{2}^{2}}{12} + \\frac{u_{2}}{12} \\sqrt{u_{2}^{2} + 72} + 3$$"
      ],
      "text/plain": [
       "                    _____________    \n",
       "       2           ╱      2          \n",
       "  u_{2}    u_{2}⋅╲╱  u_{2}  + 72     \n",
       "- ────── + ────────────────────── + 3\n",
       "    12               12              "
      ]
     },
     "metadata": {},
     "output_type": "display_data"
    }
   ],
   "source": [
    "x12_1,x12_2 = solve(at_x12,x12)\n",
    "ds(x12_1,x12_2)"
   ]
  },
  {
   "cell_type": "markdown",
   "metadata": {},
   "source": [
    "Solutions for $x_{11}^{*}$ (in order)"
   ]
  },
  {
   "cell_type": "code",
   "execution_count": 12,
   "metadata": {
    "collapsed": false
   },
   "outputs": [
    {
     "data": {
      "text/latex": [
       "$$\\frac{u_{2}^{2}}{6} - \\frac{u_{2}}{6} \\sqrt{u_{2}^{2} + 72} + 3$$"
      ],
      "text/plain": [
       "                  _____________    \n",
       "     2           ╱      2          \n",
       "u_{2}    u_{2}⋅╲╱  u_{2}  + 72     \n",
       "────── - ────────────────────── + 3\n",
       "  6                6               "
      ]
     },
     "metadata": {},
     "output_type": "display_data"
    },
    {
     "data": {
      "text/latex": [
       "$$\\frac{u_{2}^{2}}{6} + \\frac{u_{2}}{6} \\sqrt{u_{2}^{2} + 72} + 3$$"
      ],
      "text/plain": [
       "                  _____________    \n",
       "     2           ╱      2          \n",
       "u_{2}    u_{2}⋅╲╱  u_{2}  + 72     \n",
       "────── + ────────────────────── + 3\n",
       "  6                6               "
      ]
     },
     "metadata": {},
     "output_type": "display_data"
    }
   ],
   "source": [
    "x11_1,x11_2 = solve(at_x11,x11)\n",
    "ds(x11_1,x11_2)"
   ]
  },
  {
   "cell_type": "markdown",
   "metadata": {},
   "source": [
    "I now plot the solutions to see which one fits the constraint of possible utility levels."
   ]
  },
  {
   "cell_type": "code",
   "execution_count": 13,
   "metadata": {
    "collapsed": false
   },
   "outputs": [
    {
     "data": {
      "image/png": "[encoded data removed]",
      "text/plain": [
       "<matplotlib.figure.Figure at 0x111052b10>"
      ]
     },
     "metadata": {},
     "output_type": "display_data"
    },
    {
     "data": {
      "image/png": "[encoded data removed]",
      "text/plain": [
       "<matplotlib.figure.Figure at 0x111afa390>"
      ]
     },
     "metadata": {},
     "output_type": "display_data"
    }
   ],
   "source": [
    "x12_1_plot = plot(x12_1, (u2, 0, 3), title=('Solution 1'),\n",
    "                  xlabel=\"$x_{12}$\",ylabel=\"$U_{2}$\")\n",
    "x12_2_plot = plot(x12_2, (u2, 0, 3), title=('Solution 2'),\n",
    "                  xlabel=\"$x_{12}$\",ylabel=\"$U_{2}$\",\n",
    "                  axis_center=(0,3))"
   ]
  },
  {
   "cell_type": "code",
   "execution_count": 14,
   "metadata": {
    "collapsed": false
   },
   "outputs": [
    {
     "data": {
      "image/png": "[encoded data removed]",
      "text/plain": [
       "<matplotlib.figure.Figure at 0x1106dd050>"
      ]
     },
     "metadata": {},
     "output_type": "display_data"
    },
    {
     "data": {
      "image/png": "[encoded data removed]",
      "text/plain": [
       "<matplotlib.figure.Figure at 0x111ee9590>"
      ]
     },
     "metadata": {},
     "output_type": "display_data"
    }
   ],
   "source": [
    "x11_1_plot = plot(x11_1, (u2, 0, 3), title=('Solution 1'),\n",
    "                  xlabel=\"$x_{11}$\",ylabel=\"$U_{2}$\")\n",
    "x11_2_plot = plot(x11_2, (u2, 0, 3), title=('Solution 2'),\n",
    "                  xlabel=\"$x_{11}$\",ylabel=\"$U_{2}$\",\n",
    "                  axis_center=(0,3))"
   ]
  },
  {
   "cell_type": "markdown",
   "metadata": {},
   "source": [
    "Inspecting the above graphs we see that the first solution for both $x_{12}^{*}$ and $x_{11}^{*}$ must be the answer as increasing the value of either good for agent 1 implies that we decrease the utility of agent 2.\n",
    "\n",
    "We can also obtain the lagrange multiplier that will give us the tangency at the PO allocation (we can use either of our calculated $\\lambda$s since they will give the same answer): "
   ]
  },
  {
   "cell_type": "code",
   "execution_count": 15,
   "metadata": {
    "collapsed": false
   },
   "outputs": [
    {
     "data": {
      "text/latex": [
       "$$\\frac{2^{\\frac{5}{6}} \\sqrt{u_{2} \\left(- u_{2} + \\sqrt{u_{2}^{2} + 72}\\right)} \\left(- u_{2}^{2} - u_{2} \\sqrt{u_{2}^{2} + 72} + 36\\right)^{\\frac{2}{3}}}{3 \\sqrt{u_{2} \\left(u_{2} + \\sqrt{u_{2}^{2} + 72}\\right)} \\left(u_{2}^{2} - u_{2} \\sqrt{u_{2}^{2} + 72} + 18\\right)^{\\frac{2}{3}}}$$"
      ],
      "text/plain": [
       "         ___________________________________                                  \n",
       "        ╱       ⎛            _____________⎞  ⎛                    ____________\n",
       " 5/6   ╱        ⎜           ╱      2      ⎟  ⎜       2           ╱      2     \n",
       "2   ⋅╲╱   u_{2}⋅⎝-u_{2} + ╲╱  u_{2}  + 72 ⎠ ⋅⎝- u_{2}  - u_{2}⋅╲╱  u_{2}  + 72\n",
       "──────────────────────────────────────────────────────────────────────────────\n",
       "         __________________________________                                   \n",
       "        ╱       ⎛           _____________⎞  ⎛                  _____________  \n",
       "       ╱        ⎜          ╱      2      ⎟  ⎜     2           ╱      2        \n",
       "   3⋅╲╱   u_{2}⋅⎝u_{2} + ╲╱  u_{2}  + 72 ⎠ ⋅⎝u_{2}  - u_{2}⋅╲╱  u_{2}  + 72  +\n",
       "\n",
       "       2/3\n",
       "_     ⎞   \n",
       "      ⎟   \n",
       "  + 36⎠   \n",
       "──────────\n",
       "    2/3   \n",
       "   ⎞      \n",
       "   ⎟      \n",
       " 18⎠      "
      ]
     },
     "metadata": {},
     "output_type": "display_data"
    }
   ],
   "source": [
    "Lmultiplier = simplify(lam1.subs({x11:x11_1,x12:x12_1}))\n",
    "ds(Lmultiplier)"
   ]
  },
  {
   "cell_type": "markdown",
   "metadata": {},
   "source": [
    "The solution to this problem is given by\n",
    "\n",
    "\\begin{align*}\n",
    "x_{12}^{*} &= 3 - \\frac{\\bar{u}_{2}^{2}}{12} - \\frac{\\bar{u}_{2}}{12} \\sqrt{\\bar{u}_{2}^{2} + 72} \\\\\n",
    "x_{11}^{*} &= 3 + \\frac{\\bar{u}_{2}^{2}}{6} - \\frac{\\bar{u}_{2}}{6} \\sqrt{\\bar{u}_{2}^{2} + 72} \\\\\n",
    "\\lambda^{*} &= \\frac{2^{\\frac{5}{6}} \\sqrt{\\bar{u}_{2} \\left(- \\bar{u}_{2} + \\sqrt{\\bar{u}_{2}^{2} + 72}\\right)} \\left(- \\bar{u}_{2}^{2} - \\bar{u}_{2} \\sqrt{\\bar{u}_{2}^{2} + 72} + 36\\right)^{\\frac{2}{3}}}{3 \\sqrt{\\bar{u}_{2} \\left(\\bar{u}_{2} + \\sqrt{\\bar{u}_{2}^{2} + 72}\\right)} \\left(\\bar{u}_{2}^{2} - \\bar{u}_{2} \\sqrt{\\bar{u}_{2}^{2} + 72} + 18\\right)^{\\frac{2}{3}}}\\\\\n",
    "\\end{align*}\n",
    "\n",
    "With the solutions we can graph the UPF (utility possibility frontier):"
   ]
  },
  {
   "cell_type": "code",
   "execution_count": 16,
   "metadata": {
    "collapsed": false
   },
   "outputs": [
    {
     "data": {
      "image/png": "[encoded data removed]",
      "text/plain": [
       "<matplotlib.figure.Figure at 0x11077b890>"
      ]
     },
     "metadata": {},
     "output_type": "display_data"
    }
   ],
   "source": [
    "U1_opt = u_1.subs({x11:x11_1,x12:x12_1})\n",
    "UPF = plot(U1_opt,(u2,0,3), title=('Utility Possibility Frontier')\n",
    "           ,xlabel=('Utility Agent 2'),ylabel=('Utility Agent 1'))\n"
   ]
  }
 ],
 "metadata": {
  "kernelspec": {
   "display_name": "Python 2",
   "language": "python",
   "name": "python2"
  },
  "language_info": {
   "codemirror_mode": {
    "name": "ipython",
    "version": 2
   },
   "file_extension": ".py",
   "mimetype": "text/x-python",
   "name": "python",
   "nbconvert_exporter": "python",
   "pygments_lexer": "ipython2",
   "version": "2.7.12"
  }
 },
 "nbformat": 4,
 "nbformat_minor": 1
}
